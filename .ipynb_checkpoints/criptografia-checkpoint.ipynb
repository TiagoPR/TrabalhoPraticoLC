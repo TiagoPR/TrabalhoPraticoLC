{
 "cells": [
  {
   "cell_type": "markdown",
   "id": "a2d59e24",
   "metadata": {},
   "source": [
    "### Trabalho 1 - Criptografia\n",
    "###### Grupo 19\n",
    "\n",
    "Tiago Passos Rodrigues - A96414"
   ]
  },
  {
   "cell_type": "markdown",
   "id": "8c240866",
   "metadata": {},
   "source": [
    "### Enunciado\n",
    "\n",
    "2. Na criptografia pós-quântica os reticulados inteiros (“hard lattices”) e os problemas a eles associados são uma componente essencial. Um reticulado inteiro pode ser definido por uma matriz $\\;\\mathsf{L} \\in \\mathbb{Z}^{m\\times n}\\;$ (com $\\;m > n\\;$) de inteiros e por um inteiro primo $\\;q\\geq 3\\;$.\n",
    "    O chamado problema do vetor curto  (SVP) consiste  no cálculo de um vetor de inteiros\n",
    "                                                   $$\\;e\\in \\{-1,0,1\\}^m\\;$$\n",
    "    não nulo que  verifique a seguinte relação matricial\n",
    "                                         $$\\forall\\,i < n\\,\\centerdot\\,$$         $$\\sum_{j< m}\\,e_j\\,\\times\\,\\mathsf{L}_{j,i}\\;\\equiv\\;0\\mod q$$\n",
    "\n",
    "\n",
    "    a. Pretende-se resolver o SVP por programação inteira dentro das seguintes condições\n",
    "        i. Os valores  $m\\,n\\,q\\,$  são escolhidos com $\\,n > 30\\,$, $\\,|m| > 1 + |n|\\;$ e $\\,|q| > |m|\\,$. \n",
    "        ii. Os elementos $\\;\\mathsf{L}_{j,i}\\;$ são gerados aleatória e uniformemente no intervalo inteiro $\\,\\{-d \\cdots d\\}$ sendo  $\\;d\\equiv (q-1)/2\\;$.\n",
    "    b. Pretende-se determinar em, em primeiro lugar, se existe um vetor $\\,e\\,$ não nulo (pelo menos um dos $\\,e_j\\,$é diferente de zero). Se existir $\\,e\\,$ pretende-se calcular o vetor que minimiza o número de componentes não nulas."
   ]
  },
  {
   "cell_type": "markdown",
   "id": "c9fe5e67",
   "metadata": {},
   "source": [
    "### Análise do problema\n",
    "\n",
    "Temos uma matriz L que pertence à matriz de tamanho m * n do conjunto dos numeros inteiros. "
   ]
  },
  {
   "cell_type": "markdown",
   "id": "aa7709f5",
   "metadata": {},
   "source": [
    "### Implementação\n",
    "\n",
    "Começamos por importar a biblioteca de uma ferramenta de programação inteira do OR-Tools que consegue lidar com a multiplicação de variáveis e criar uma instância do *model*.\n",
    "\n",
    "\n",
    "Depois inicializamos o *model* `criptografia` e definir os valores para as constantes $M$, $N$ e $Q$."
   ]
  },
  {
   "cell_type": "code",
   "execution_count": null,
   "id": "c1938eec",
   "metadata": {},
   "outputs": [],
   "source": [
    "# Importar biblioteca\n",
    "from ortools.sat.python import cp_model\n",
    "\n",
    "# Cria o modelo CP-SAT\n",
    "model = cp_model.CpModel()\n",
    "\n",
    "M, N, Q = 3, 4, 5\n",
    "\n",
    "# Cria as variáveis\n",
    "j = model.NewIntVar(0, M, 'j')\n",
    "i = model.NewIntVar(0, N, 'i')\n",
    "\n",
    "\n"
   ]
  }
 ],
 "metadata": {
  "kernelspec": {
   "display_name": "Python 3 (ipykernel)",
   "language": "python",
   "name": "python3"
  },
  "language_info": {
   "codemirror_mode": {
    "name": "ipython",
    "version": 3
   },
   "file_extension": ".py",
   "mimetype": "text/x-python",
   "name": "python",
   "nbconvert_exporter": "python",
   "pygments_lexer": "ipython3",
   "version": "3.10.4"
  }
 },
 "nbformat": 4,
 "nbformat_minor": 5
}
