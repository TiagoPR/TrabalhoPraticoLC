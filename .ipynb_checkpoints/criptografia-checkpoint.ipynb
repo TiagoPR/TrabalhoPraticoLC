{
 "cells": [
  {
   "cell_type": "markdown",
   "id": "a2d59e24",
   "metadata": {},
   "source": [
    "### Trabalho 1 - Criptografia\n",
    "###### Grupo 19\n",
    "\n",
    "Tiago Passos Rodrigues - A96414"
   ]
  },
  {
   "cell_type": "markdown",
   "id": "8c240866",
   "metadata": {},
   "source": [
    "### Enunciado\n",
    "\n",
    "2. Na criptografia pós-quântica os reticulados inteiros (“hard lattices”) e os problemas a eles associados são uma componente essencial. Um reticulado inteiro pode ser definido por uma matriz $\\;\\mathsf{L} \\in \\mathbb{Z}^{m\\times n}\\;$ (com $\\;m > n\\;$) de inteiros e por um inteiro primo $\\;q\\geq 3\\;$.\n",
    "    O chamado problema do vetor curto  (SVP) consiste  no cálculo de um vetor de inteiros\n",
    "                                                   $$ e \\in \\{-1,0,1\\}^m $$\n",
    "    não nulo que  verifique a seguinte relação matricial\n",
    "                                         $$\\forall\\,i < n\\,\\centerdot\\,$$         $$\\sum_{j< m}\\,e_j\\,\\times\\,\\mathsf{L}_{j,i}\\;\\equiv\\;0\\mod q$$\n",
    "\n",
    "\n",
    "    a. Pretende-se resolver o SVP por programação inteira dentro das seguintes condições\n",
    "        i. Os valores  $m\\,n\\,q\\,$  são escolhidos com $\\,n > 30\\,$, $\\,|m| > 1 + |n|\\;$ e $\\,|q| > |m|\\,$. \n",
    "        ii. Os elementos $\\;\\mathsf{L}_{j,i}\\;$ são gerados aleatória e uniformemente no intervalo inteiro $\\,\\{-d \\cdots d\\}$ sendo  $\\;d\\equiv (q-1)/2\\;$.\n",
    "    b. Pretende-se determinar em, em primeiro lugar, se existe um vetor $\\,e\\,$ não nulo (pelo menos um dos $\\,e_j\\,$é diferente de zero). Se existir $\\,e\\,$ pretende-se calcular o vetor que minimiza o número de componentes não nulas."
   ]
  },
  {
   "cell_type": "markdown",
   "id": "c9fe5e67",
   "metadata": {},
   "source": [
    "### Análise do problema\n",
    "\n",
    "Temos uma matriz L que pertence à matriz de tamanho m * n do conjunto dos numeros inteiros. \n",
    "\n",
    "∑\n",
    "​j<m\n",
    "​​ e\n",
    "​j\n",
    "​​ ×L\n",
    "​j,i\n",
    "\n",
    "     vai corresponder à variavel x"
   ]
  },
  {
   "cell_type": "markdown",
   "id": "aa7709f5",
   "metadata": {},
   "source": [
    "### Implementação\n",
    "\n",
    "Começamos por importar a biblioteca de uma ferramenta de programação inteira do OR-Tools que consegue lidar com a multiplicação de variáveis e criar uma instância do *model*.\n",
    "\n",
    "\n",
    "Depois inicializamos o *model* `criptografia` e definir os valores para as constantes $M$, $N$ e $Q$."
   ]
  },
  {
   "cell_type": "code",
   "execution_count": 1,
   "id": "4693ec82",
   "metadata": {},
   "outputs": [],
   "source": [
    "# Importar biblioteca\n",
    "from ortools.sat.python import cp_model\n",
    "\n",
    "# Cria o modelo CP-SAT\n",
    "model = cp_model.CpModel()"
   ]
  },
  {
   "cell_type": "markdown",
   "id": "d8eb69c9",
   "metadata": {},
   "source": [
    "### Criação das variáveis e Inputs"
   ]
  },
  {
   "cell_type": "code",
   "execution_count": 4,
   "id": "c1938eec",
   "metadata": {},
   "outputs": [
    {
     "name": "stdout",
     "output_type": "stream",
     "text": [
      "[[-1  0 -2 -1]\n",
      " [ 1 -1 -2 -2]\n",
      " [-2  0  1 -2]\n",
      " [ 0 -2  1 -1]\n",
      " [-1 -1 -2 -1]\n",
      " [-2 -1 -1 -2]\n",
      " [ 0  0  0  0]\n",
      " [-2 -2 -2 -2]]\n"
     ]
    }
   ],
   "source": [
    "M, N, Q, D = 8, 4, 5, 2\n",
    "\n",
    "# Cria a variável do vetor e\n",
    "#e = model.NewIntVar(-1, 1, 'e')\n",
    "e = {}\n",
    "for m in range(M):\n",
    "    e[m] = model.NewIntVar(-1, 1, 'e')\n",
    "\n",
    "# importar a libraria numpy para a geração da matriz\n",
    "import numpy as np\n",
    "# 1º argumento --> numeros de -D até D, \n",
    "# 2º argumento, linha = M, coluna = N\n",
    "matriz = np.random.randint(-D,D, (M, N))\n",
    "print(matriz)\n",
    "#print(matriz[0][1])\n",
    "    \n",
    "k = model.NewIntVar(-100, 100, 'k') # existe um k\n",
    "\n",
    "x = model.NewIntVar(-D, D, \"qk\")\n",
    "\n",
    "# Cria uma variável adicional que representa a multiplicação das variáveis\n",
    "#x = model.NewIntVar(-100, 100*Q, \"qk\")\n",
    "#model.AddMultiplicationEquality(x, [Q,k])  # x = q*k\n",
    "#print(\"soma exemplo:\" , sum(matriz[j][2] for j in range(M)))\n",
    "\n",
    "for i in range(N):\n",
    "    soma = sum(e[j] * matriz[j][i] for j in range(M))\n",
    "    #model.Add(sum(e[j] * matriz[j][i] for j in range(M)) == Q*k) #percorre a coluna\n",
    "    model.AddMultiplicationEquality(soma, [Q,k])\n"
   ]
  },
  {
   "cell_type": "markdown",
   "id": "32dd0aa4",
   "metadata": {},
   "source": [
    "### Criação do Solver e interpretação dos resultados"
   ]
  },
  {
   "cell_type": "code",
   "execution_count": 3,
   "id": "91a7ce7d",
   "metadata": {},
   "outputs": [
    {
     "name": "stdout",
     "output_type": "stream",
     "text": [
      "No solution found.\n"
     ]
    }
   ],
   "source": [
    "# Cria um solver CP-SAT a solver and solves the model.\n",
    "solver = cp_model.CpSolver()\n",
    "\n",
    "# Invoca o solver com o modelo criado\n",
    "status = solver.Solve(model)\n",
    "\n",
    "# Interpreta os resultados\n",
    "if status == cp_model.OPTIMAL or status == cp_model.FEASIBLE:\n",
    "    #print('x = %i' % solver.Value(x))\n",
    "    for m in range(M):\n",
    "        print(solver.Value(e[m]), end='')\n",
    "    print('\\nk = %i' % solver.Value(k))\n",
    "    print (\"objectivo = \", int(solver.ObjectiveValue()))\n",
    "else:\n",
    "    print('No solution found.')\n"
   ]
  },
  {
   "cell_type": "code",
   "execution_count": null,
   "id": "22c4a7d9",
   "metadata": {},
   "outputs": [],
   "source": []
  }
 ],
 "metadata": {
  "kernelspec": {
   "display_name": "Python 3 (ipykernel)",
   "language": "python",
   "name": "python3"
  },
  "language_info": {
   "codemirror_mode": {
    "name": "ipython",
    "version": 3
   },
   "file_extension": ".py",
   "mimetype": "text/x-python",
   "name": "python",
   "nbconvert_exporter": "python",
   "pygments_lexer": "ipython3",
   "version": "3.10.4"
  }
 },
 "nbformat": 4,
 "nbformat_minor": 5
}
