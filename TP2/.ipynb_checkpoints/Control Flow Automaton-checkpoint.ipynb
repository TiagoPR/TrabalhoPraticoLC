{
 "cells": [
  {
   "cell_type": "markdown",
   "id": "b274fba8",
   "metadata": {},
   "source": [
    "### Trabalho 2 - Control Flow Automaton\n",
    "###### Grupo 19\n",
    "\n",
    "Tiago Passos Rodrigues - A96414"
   ]
  },
  {
   "cell_type": "markdown",
   "id": "7fa0e2c5",
   "metadata": {},
   "source": [
    "### Enunciado\n",
    "\n",
    "Este programa implementa a multiplicação de dois inteiros $\\,a,b\\,$ , fornecidos como “input”,    e com precisão limitada a $\\,n\\,$ bits (fornecido como parâmetro do programa). Note-se que\n",
    "\n",
    " - Existe a possibilidade de alguma das operações do programa produzir um erro de “overflow”. \n",
    " - Os nós do grafo representam ações  que actuam sobre os “inputs” do nó e produzem um “output” com as operações indicadas\n",
    " - Os ramos do grafo representam ligações que transferem o “output” de um nodo para o “input” do nodo seguinte. Esta transferência é condicionada pela satisfação da condição associada ao ramo\n",
    "\n",
    "\n",
    "  1. Construa um FOTS usando BitVector de tamanho $n$ que descreva o comportamento deste autómato. Para isso identifique as variáveis do modelo, o estado inicial e a relação de transição.\n",
    "  2. Verifique se$\\;$ $\\;\\mathsf{P}\\,\\equiv\\,(x*y + z = a*b)\\;$ $\\;$é um invariante deste comportamento."
   ]
  },
  {
   "cell_type": "markdown",
   "id": "8d54cdc9",
   "metadata": {},
   "source": [
    "### Implementação\n",
    "\n",
    "Começamos por importar o módulo `pysmt.shortcuts` que oferece uma API simplificada que disponibiliza as funcionalidades para a utilização usual de um SMT solver.\n",
    "Os tipos estão definidos no módulo `pysmt.typing` de onde temos que importar o tipo `INT`. Definição dos inputs de $a$, $b$."
   ]
  },
  {
   "cell_type": "code",
   "execution_count": 3,
   "id": "6b6a0de1",
   "metadata": {},
   "outputs": [],
   "source": [
    "from pysmt.shortcuts import *\n",
    "from pysmt.typing import INT\n",
    "\n",
    "a,b = 5,10"
   ]
  },
  {
   "cell_type": "markdown",
   "id": "3bf6ada4",
   "metadata": {},
   "source": [
    "A seguinte função cria a $i$-ésima cópia das variáveis de estado, agrupadas num dicionário que nos permite aceder às mesmas pelo nome.\n"
   ]
  },
  {
   "cell_type": "code",
   "execution_count": 2,
   "id": "5d3a0729",
   "metadata": {},
   "outputs": [],
   "source": [
    "def declare(i):\n",
    "    state = {}\n",
    "    state['pc'] = Symbol('pc'+str(i),INT)\n",
    "    state['x'] = Symbol('x'+str(i),INT)\n",
    "    state['y'] = Symbol('y'+str(i),INT)\n",
    "    state['z'] = Symbol('z'+str(i),INT)\n",
    "    return state"
   ]
  },
  {
   "cell_type": "markdown",
   "id": "eaafd536",
   "metadata": {},
   "source": [
    "Definição da função `init` que, dado um possível estado do programa (um dicionário de variáveis), devolva um predicado do pySMT que testa se esse estado é um possível estado inicial do programa."
   ]
  },
  {
   "cell_type": "code",
   "execution_count": 4,
   "id": "35bf083d",
   "metadata": {},
   "outputs": [],
   "source": [
    "def init(state):\n",
    "    return And(Equals(state['pc'], Int(0)), Equals(state['x'], Int(a)), Equals(state['x'], Int(b)), Equals(state['x'], Int(0)))"
   ]
  },
  {
   "cell_type": "markdown",
   "id": "2a6abb5b",
   "metadata": {},
   "source": [
    "Definição da função `trans` que, dados dois possíveis estados do programa, devolva um predicado do pySMT que testa se é possível transitar do primeiro para o segundo."
   ]
  },
  {
   "cell_type": "code",
   "execution_count": 5,
   "id": "112db23e",
   "metadata": {},
   "outputs": [],
   "source": [
    "def trans(curr,prox):\n",
    "    t0 = And(\n",
    "        Equals(curr['pc'], Int(0)), \n",
    "        Equals(prox['pc'], Int(1)), \n",
    "        Equals(prox['x'], curr['x']),\n",
    "        Equals(prox['y'], curr['y']),\n",
    "        Equals(prox['z'], curr['z'])\n",
    "    )\n",
    "    t1 = And(\n",
    "        Equals(curr['pc'], Int(1)), \n",
    "        NotEquals(curr['y'], Int(0)),\n",
    "        Equals(curr['y'] % 2, Int(1)),\n",
    "        Equals(prox['pc'], Int(2)), \n",
    "        Equals(prox['x'], curr['x']),\n",
    "        Equals(prox['y'], curr['y'] - 1),\n",
    "        Equals(prox['z'], curr['x'] + curr['z'])\n",
    "    )\n",
    "    t2 = And(\n",
    "        Equals(curr['pc'], Int(2)), \n",
    "        Equals(prox['pc'], Int(1)), \n",
    "        Equals(prox['x'], curr['x']),\n",
    "        Equals(prox['y'], curr['y']),\n",
    "        Equals(prox['z'], curr['z'])\n",
    "    )\n",
    "    t3 = And(\n",
    "        Equals(curr['pc'], Int(1)), \n",
    "        NotEquals(curr['y'], Int(0)),\n",
    "        Equals(curr['y'] % 2, Int(0)),\n",
    "        Equals(prox['pc'], Int(3)), \n",
    "        Equals(prox['x'], 2 * curr['x']),\n",
    "        Equals(prox['y'], curr['y'] / 2),\n",
    "        Equals(prox['z'], curr['z'])\n",
    "    )\n",
    "    t4 = And(\n",
    "        Equals(curr['pc'], Int(3)), \n",
    "        Equals(prox['pc'], Int(1)), \n",
    "        Equals(prox['x'], curr['x']),\n",
    "        Equals(prox['y'], curr['y']),\n",
    "        Equals(prox['z'], curr['z'])\n",
    "    )\n",
    "    # stop\n",
    "    t5 = And(\n",
    "        Equals(curr['pc'], Int(1)), \n",
    "        Equals(curr['y'], Int(0)),\n",
    "        Equals(prox['pc'], Int(4)), # 4º estado\n",
    "        Equals(prox['x'], curr['x']),\n",
    "        Equals(prox['y'], curr['y']),\n",
    "        Equals(prox['z'], curr['z'])\n",
    "    )\n",
    "    # no estado do stop\n",
    "    t6 = And(\n",
    "        Equals(curr['pc'], Int(4)), \n",
    "        Equals(prox['pc'], Int(4)), \n",
    "        Equals(prox['x'], curr['x']),\n",
    "        Equals(prox['y'], curr['y']),\n",
    "        Equals(prox['z'], curr['z'])\n",
    "    )\n",
    "    \n",
    "    # overflow - como faço?\n",
    "    t7 = And(  \n",
    "        Equals(curr['pc'], Int(2)), \n",
    "        Equals(prox['pc'], Int(2)), \n",
    "        Equals(prox['x'], curr['x'])\n",
    "    )\n",
    "    \n",
    "    return Or(t0,t1,t2,t3)"
   ]
  },
  {
   "cell_type": "code",
   "execution_count": null,
   "id": "74a56cf8",
   "metadata": {},
   "outputs": [],
   "source": []
  }
 ],
 "metadata": {
  "kernelspec": {
   "display_name": "Python 3 (ipykernel)",
   "language": "python",
   "name": "python3"
  },
  "language_info": {
   "codemirror_mode": {
    "name": "ipython",
    "version": 3
   },
   "file_extension": ".py",
   "mimetype": "text/x-python",
   "name": "python",
   "nbconvert_exporter": "python",
   "pygments_lexer": "ipython3",
   "version": "3.10.4"
  }
 },
 "nbformat": 4,
 "nbformat_minor": 5
}
