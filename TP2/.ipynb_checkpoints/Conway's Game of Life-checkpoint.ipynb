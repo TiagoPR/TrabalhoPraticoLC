{
 "cells": [
  {
   "cell_type": "code",
   "execution_count": 7,
   "id": "e3b30790",
   "metadata": {},
   "outputs": [
    {
     "name": "stdout",
     "output_type": "stream",
     "text": [
      "[[(i0, j0), (i0, j1), (i0, j2), (i0, j3), (i0, j4)], [(i1, j0), (i1, j1), (i1, j2), (i1, j3), (i1, j4)], [(i2, j0), (i2, j1), (i2, j2), (i2, j3), (i2, j4)], [(i3, j0), (i3, j1), (i3, j2), (i3, j3), (i3, j4)], [(i4, j0), (i4, j1), (i4, j2), (i4, j3), (i4, j4)]]\n"
     ]
    }
   ],
   "source": [
    "from pysmt.shortcuts import *\n",
    "from pysmt.typing import INT\n",
    "\n",
    "N = 5 #tamanho da grelha\n",
    "        \n",
    "def declare(i,j):\n",
    "    return (Symbol('i'+str(i)) , Symbol('j'+str(j)))\n",
    "\n",
    "grelha = []\n",
    "\n",
    "for i in range(N):\n",
    "    grelha.append([])\n",
    "    for j in range(N):\n",
    "        grelha[i].append(declare(i,j))\n",
    "        \n",
    "print(grelha)\n",
    "\n",
    "def init(grelha):\n",
    "    for i in range(N):\n",
    "        for j in range(N):\n",
    "            grelha[i][j] = And(Iff(grelha[i][j][0],FALSE()),Iff(grelha[i][j][1],FALSE()))\n",
    "\n",
    "init(grelha)\n"
   ]
  },
  {
   "cell_type": "code",
   "execution_count": null,
   "id": "27207033",
   "metadata": {},
   "outputs": [],
   "source": []
  }
 ],
 "metadata": {
  "kernelspec": {
   "display_name": "Python 3 (ipykernel)",
   "language": "python",
   "name": "python3"
  },
  "language_info": {
   "codemirror_mode": {
    "name": "ipython",
    "version": 3
   },
   "file_extension": ".py",
   "mimetype": "text/x-python",
   "name": "python",
   "nbconvert_exporter": "python",
   "pygments_lexer": "ipython3",
   "version": "3.10.4"
  }
 },
 "nbformat": 4,
 "nbformat_minor": 5
}
