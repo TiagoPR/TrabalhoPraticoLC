{
 "cells": [
  {
   "cell_type": "markdown",
   "id": "b274fba8",
   "metadata": {},
   "source": [
    "### Trabalho 2 - Control Flow Automaton\n",
    "###### Grupo 19\n",
    "\n",
    "Tiago Passos Rodrigues - A96414"
   ]
  },
  {
   "cell_type": "markdown",
   "id": "7fa0e2c5",
   "metadata": {},
   "source": [
    "### Enunciado\n",
    "\n",
    "Este programa implementa a multiplicação de dois inteiros $\\,a,b\\,$ , fornecidos como “input”,    e com precisão limitada a $\\,n\\,$ bits (fornecido como parâmetro do programa). Note-se que\n",
    "\n",
    " - Existe a possibilidade de alguma das operações do programa produzir um erro de “overflow”. \n",
    " - Os nós do grafo representam ações  que actuam sobre os “inputs” do nó e produzem um “output” com as operações indicadas\n",
    " - Os ramos do grafo representam ligações que transferem o “output” de um nodo para o “input” do nodo seguinte. Esta transferência é condicionada pela satisfação da condição associada ao ramo\n",
    "\n",
    "\n",
    "  1. Construa um FOTS usando BitVector de tamanho $n$ que descreva o comportamento deste autómato. Para isso identifique as variáveis do modelo, o estado inicial e a relação de transição.\n",
    "  2. Verifique se$\\;$ $\\;\\mathsf{P}\\,\\equiv\\,(x*y + z = a*b)\\;$ $\\;$é um invariante deste comportamento."
   ]
  },
  {
   "cell_type": "code",
   "execution_count": null,
   "id": "ef50a7ab",
   "metadata": {},
   "outputs": [],
   "source": []
  }
 ],
 "metadata": {
  "kernelspec": {
   "display_name": "Python 3 (ipykernel)",
   "language": "python",
   "name": "python3"
  },
  "language_info": {
   "codemirror_mode": {
    "name": "ipython",
    "version": 3
   },
   "file_extension": ".py",
   "mimetype": "text/x-python",
   "name": "python",
   "nbconvert_exporter": "python",
   "pygments_lexer": "ipython3",
   "version": "3.10.4"
  }
 },
 "nbformat": 4,
 "nbformat_minor": 5
}
