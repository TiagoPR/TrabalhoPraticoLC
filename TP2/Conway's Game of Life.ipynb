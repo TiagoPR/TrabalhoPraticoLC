{
 "cells": [
  {
   "cell_type": "code",
   "execution_count": 1,
   "id": "e3b30790",
   "metadata": {},
   "outputs": [
    {
     "name": "stdout",
     "output_type": "stream",
     "text": [
      "[[i0j0, i0j1, i0j2, i0j3, i0j4], [i1j0, i1j1, i1j2, i1j3, i1j4], [i2j0, i2j1, i2j2, i2j3, i2j4], [i3j0, i3j1, i3j2, i3j3, i3j4], [i4j0, i4j1, i4j2, i4j3, i4j4]]\n"
     ]
    },
    {
     "ename": "UnsupportedOperatorError",
     "evalue": "Unsupported operation '__getitem__' on 'i0j0'.",
     "output_type": "error",
     "traceback": [
      "\u001b[0;31m---------------------------------------------------------------------------\u001b[0m",
      "\u001b[0;31mUnsupportedOperatorError\u001b[0m                  Traceback (most recent call last)",
      "Input \u001b[0;32mIn [1]\u001b[0m, in \u001b[0;36m<cell line: 23>\u001b[0;34m()\u001b[0m\n\u001b[1;32m     20\u001b[0m         \u001b[38;5;28;01mfor\u001b[39;00m j \u001b[38;5;129;01min\u001b[39;00m \u001b[38;5;28mrange\u001b[39m(N):\n\u001b[1;32m     21\u001b[0m             grelha[i][j] \u001b[38;5;241m=\u001b[39m And(Iff(grelha[i][j][\u001b[38;5;241m0\u001b[39m],FALSE()),Iff(grelha[i][j][\u001b[38;5;241m1\u001b[39m],FALSE()))\n\u001b[0;32m---> 23\u001b[0m \u001b[43minit\u001b[49m\u001b[43m(\u001b[49m\u001b[43mgrelha\u001b[49m\u001b[43m)\u001b[49m\n",
      "Input \u001b[0;32mIn [1]\u001b[0m, in \u001b[0;36minit\u001b[0;34m(grelha)\u001b[0m\n\u001b[1;32m     19\u001b[0m \u001b[38;5;28;01mfor\u001b[39;00m i \u001b[38;5;129;01min\u001b[39;00m \u001b[38;5;28mrange\u001b[39m(N):\n\u001b[1;32m     20\u001b[0m     \u001b[38;5;28;01mfor\u001b[39;00m j \u001b[38;5;129;01min\u001b[39;00m \u001b[38;5;28mrange\u001b[39m(N):\n\u001b[0;32m---> 21\u001b[0m         grelha[i][j] \u001b[38;5;241m=\u001b[39m And(Iff(\u001b[43mgrelha\u001b[49m\u001b[43m[\u001b[49m\u001b[43mi\u001b[49m\u001b[43m]\u001b[49m\u001b[43m[\u001b[49m\u001b[43mj\u001b[49m\u001b[43m]\u001b[49m\u001b[43m[\u001b[49m\u001b[38;5;241;43m0\u001b[39;49m\u001b[43m]\u001b[49m,FALSE()),Iff(grelha[i][j][\u001b[38;5;241m1\u001b[39m],FALSE()))\n",
      "File \u001b[0;32m~/anaconda3/envs/logica/lib/python3.10/site-packages/pysmt/decorators.py:107\u001b[0m, in \u001b[0;36massert_infix_enabled.<locals>.assert_infix_enabled_wrap\u001b[0;34m(*args, **kwargs)\u001b[0m\n\u001b[1;32m    105\u001b[0m \u001b[38;5;28;01mif\u001b[39;00m \u001b[38;5;129;01mnot\u001b[39;00m get_env()\u001b[38;5;241m.\u001b[39menable_infix_notation:\n\u001b[1;32m    106\u001b[0m     \u001b[38;5;28;01mraise\u001b[39;00m PysmtModeError(INFIX_ERROR_MSG)\n\u001b[0;32m--> 107\u001b[0m \u001b[38;5;28;01mreturn\u001b[39;00m \u001b[43mf\u001b[49m\u001b[43m(\u001b[49m\u001b[38;5;241;43m*\u001b[39;49m\u001b[43margs\u001b[49m\u001b[43m,\u001b[49m\u001b[43m \u001b[49m\u001b[38;5;241;43m*\u001b[39;49m\u001b[38;5;241;43m*\u001b[39;49m\u001b[43mkwargs\u001b[49m\u001b[43m)\u001b[49m\n",
      "File \u001b[0;32m~/anaconda3/envs/logica/lib/python3.10/site-packages/pysmt/fnode.py:947\u001b[0m, in \u001b[0;36mFNode.__getitem__\u001b[0;34m(self, idx)\u001b[0m\n\u001b[1;32m    945\u001b[0m \u001b[38;5;28;01mif\u001b[39;00m \u001b[38;5;28mself\u001b[39m\u001b[38;5;241m.\u001b[39mget_type()\u001b[38;5;241m.\u001b[39mis_bv_type():\n\u001b[1;32m    946\u001b[0m     \u001b[38;5;28;01mreturn\u001b[39;00m _mgr()\u001b[38;5;241m.\u001b[39mBVExtract(\u001b[38;5;28mself\u001b[39m, start\u001b[38;5;241m=\u001b[39mstart, end\u001b[38;5;241m=\u001b[39mend)\n\u001b[0;32m--> 947\u001b[0m \u001b[38;5;28;01mraise\u001b[39;00m UnsupportedOperatorError(\u001b[38;5;124m\"\u001b[39m\u001b[38;5;124mUnsupported operation \u001b[39m\u001b[38;5;124m'\u001b[39m\u001b[38;5;124m__getitem__\u001b[39m\u001b[38;5;124m'\u001b[39m\u001b[38;5;124m on \u001b[39m\u001b[38;5;124m'\u001b[39m\u001b[38;5;132;01m%s\u001b[39;00m\u001b[38;5;124m'\u001b[39m\u001b[38;5;124m.\u001b[39m\u001b[38;5;124m\"\u001b[39m \u001b[38;5;241m%\u001b[39m\n\u001b[1;32m    948\u001b[0m                                \u001b[38;5;28mstr\u001b[39m(\u001b[38;5;28mself\u001b[39m))\n",
      "\u001b[0;31mUnsupportedOperatorError\u001b[0m: Unsupported operation '__getitem__' on 'i0j0'."
     ]
    }
   ],
   "source": [
    "from pysmt.shortcuts import *\n",
    "from pysmt.typing import INT\n",
    "import random\n",
    "\n",
    "N = 5 #tamanho da grelha\n",
    "\n",
    "centro = random.randint(1,N-1) #random menos das bordas\n",
    "p = 0.3\n",
    "\n",
    "valor = random.random()\n",
    "\n",
    "# criacao de 2 vetores e uma constante da ponta\n",
    "\n",
    "# condicoes para os simbolos da grelha que estejam na ponta\n",
    "    \n",
    "def declare(i,j):\n",
    "    return Symbol('i'+str(i)+'j'+str(j),INT)\n",
    "\n",
    "grelha = []\n",
    "\n",
    "for i in range(N):\n",
    "    grelha.append([])\n",
    "    for j in range(N):\n",
    "        grelha[i].append(declare(i,j))\n",
    "        \n",
    "print(grelha)\n",
    "\n",
    "# definir as funcoes dos vizinhos\n",
    "\n",
    "def init(grelha):\n",
    "    for i in range(N):\n",
    "        for j in range(N):\n",
    "            grelha[i][j] = And(Iff(grelha[i][j][0],FALSE()),Iff(grelha[i][j][1],FALSE()))\n",
    "\n",
    "init(grelha)\n"
   ]
  },
  {
   "cell_type": "code",
   "execution_count": null,
   "id": "27207033",
   "metadata": {},
   "outputs": [],
   "source": []
  }
 ],
 "metadata": {
  "kernelspec": {
   "display_name": "Python 3 (ipykernel)",
   "language": "python",
   "name": "python3"
  },
  "language_info": {
   "codemirror_mode": {
    "name": "ipython",
    "version": 3
   },
   "file_extension": ".py",
   "mimetype": "text/x-python",
   "name": "python",
   "nbconvert_exporter": "python",
   "pygments_lexer": "ipython3",
   "version": "3.10.4"
  }
 },
 "nbformat": 4,
 "nbformat_minor": 5
}
