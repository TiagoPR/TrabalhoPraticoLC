{
 "cells": [
  {
   "cell_type": "markdown",
   "id": "d8f8f66e",
   "metadata": {},
   "source": [
    "### Trabalho 3 - Inversores\n",
    "###### Grupo 19\n",
    "\n",
    "Tiago Passos Rodrigues - A96414"
   ]
  },
  {
   "cell_type": "markdown",
   "id": "e4ede416",
   "metadata": {},
   "source": [
    "### Enunciado\n",
    "\n",
    "\n",
    "O seguinte sistema dinâmico denota 4 inversores ($\\,A, B, C, D\\,$) que lêm um bit num canal input e escrevem num canal output uma transformação desse bit.\n",
    "\n",
    "   i. Cada inversor tem um bit $s$ de estado, inicializado  com um valor aleatório.\n",
    "   \n",
    "   ii. Cada inversor é regido pelas seguintes transformações\n",
    "$$\\mathbf{invert}\\mathtt(in,out)$$\n",
    "$$x \\gets \\mathsf{read}(\\mathtt{in})$$\n",
    "$$s \\gets \\neg x\\;\\;\\|\\;\\; s\\gets s\\oplus x$$            \n",
    "$$\\mathsf{write}(\\mathtt{out},s)$$\n",
    "   iii. A escolha neste comando é sempre determinística; isto é, em cada inversor a escolha do comando a executar é sempre a mesma. Porém qual é essa escolha é determinada aleatoriamente na inicializarão do sistema.\n",
    "   \n",
    "   iii. O estado do sistema é um duplo definido pelos 4 bits $s$, e é inicializado com um vetor aleatório em $\\{0,1\\}^4\\;$.\n",
    "   \n",
    "   iv. O sistema termina em ERRO quando o estado do sistema for $\\,(0,0,0,0)\\,$.\n",
    "                    \n",
    "   1. Construa um SFOTS que descreva este sistema e implemente este sistema, numa abordagem BMC (“bouded model checker”) num traço com $\\,n\\,$ estados.\n",
    "   2. Verifique se o sistema é seguro usando BMC, k-indução ou model checking com interpolantes."
   ]
  },
  {
   "cell_type": "markdown",
   "id": "b93a0958",
   "metadata": {},
   "source": [
    "### Implementação"
   ]
  },
  {
   "cell_type": "code",
   "execution_count": 1,
   "id": "da53b345",
   "metadata": {},
   "outputs": [],
   "source": [
    "from pysmt.shortcuts import *\n",
    "from pysmt.typing import INT\n",
    "\n",
    "import itertools\n",
    "\n",
    "def genState(vars,s,i):\n",
    "    state = {}\n",
    "    for v in vars:\n",
    "        state[v] = Symbol(v+'!'+s+str(i),INT)\n",
    "    return state"
   ]
  },
  {
   "cell_type": "markdown",
   "id": "8034b5d2",
   "metadata": {},
   "source": [
    "### Criação do SFOTS"
   ]
  },
  {
   "cell_type": "code",
   "execution_count": 2,
   "id": "5894027b",
   "metadata": {},
   "outputs": [],
   "source": [
    "import numpy\n",
    "# valor aleatorio entre 0 e 1 para determinar qual a funcao a usar |¬x ∥ s←s⊕x |\n",
    "funcao = numpy.random.choice([0,1])\n",
    "\n",
    "def trans1(curr,prox):\n",
    "\n",
    "    t0 = And(Equals(curr['pc'],Int(0)), Equals(funcao,Int(0)), Equals(prox['pc'],Int(1)), Equals(prox['Inv_B'],Not(curr['Inv_A'])))\n",
    "    t1 = And(Equals(curr['pc'],Int(0)), Equals(funcao,Int(1)), Equals(prox['pc'],Int(1)), Equals(prox['Inv_B'],Xor(curr['Inv_A'],curr['Inv_B'])))\n",
    "    t2 = And(Equals(curr['pc'],Int(1)), Equals(funcao,Int(0)), Equals(prox['pc'],Int(2)), Equals(prox['Inv_C'],Not(curr['Inv_B'])))\n",
    "    t3 = And(Equals(curr['pc'],Int(1)), Equals(funcao,Int(1)), Equals(prox['pc'],Int(2)), Equals(prox['Inv_C'],Xor(curr['Inv_B'],curr['Inv_C'])))\n",
    "    t4 = And(Equals(curr['pc'],Int(2)), Equals(funcao,Int(0)), Equals(prox['pc'],Int(3)), Equals(prox['Inv_D'],Not(curr['Inv_C'])))\n",
    "    t5 = And(Equals(curr['pc'],Int(2)), Equals(funcao,Int(1)), Equals(prox['pc'],Int(3)), Equals(prox['Inv_D'],Xor(curr['Inv_C'],curr['Inv_D'])))\n",
    "    t6 = And(Equals(curr['pc'],Int(3)), Equals(funcao,Int(0)), Equals(prox['pc'],Int(0)), Equals(prox['Inv_A'],Not(curr['Inv_D'])))\n",
    "    t7 = And(Equals(curr['pc'],Int(3)), Equals(funcao,Int(1)), Equals(prox['pc'],Int(0)), Equals(prox['Inv_A'],Xor(curr['inv_d'],curr['Inv_A'])))\n",
    "\n",
    "    return Or(t0,t1,t2,t3,t4,t5,t6,t7)\n",
    "        \n",
    "def init1(state):\n",
    "    return And(Equals(state['pc'],Int(0)), \n",
    "          Equals(state['Inv_A'],Int(numpy.random.choice([0,1]))),\n",
    "           Equals(state['Inv_B'],numpy.random.choice(Int(0),Int(1))),\n",
    "           Equals(state['Inv_C'],numpy.random.choice(Int(0),Int(1))),\n",
    "           Equals(state['Inv_D'],numpy.random.choice(Int(0),Int(1))),\n",
    "           Not(And(Equals(inv_a,Int(0)),Equals(inv_b,Int(0)),Equals(inv_c,Int(0)),Equals(inv_d,Int(0))))\n",
    "            )\n",
    "\n",
    "def error1(state):\n",
    "    return And(Equals(state['Inv_A'],Int(0)),\n",
    "               Equals(state['Inv_B'],Int(0)),\n",
    "               Equals(state['Inv_C'],Int(0)),\n",
    "               Equals(state['Inv_D'],Int(0))\n",
    "              )\n"
   ]
  },
  {
   "cell_type": "code",
   "execution_count": 3,
   "id": "21c2ffde",
   "metadata": {},
   "outputs": [
    {
     "ename": "PysmtTypeError",
     "evalue": "Invalid type in constant. The type was:<class 'numpy.int64'>",
     "output_type": "error",
     "traceback": [
      "\u001b[0;31m---------------------------------------------------------------------------\u001b[0m",
      "\u001b[0;31mPysmtTypeError\u001b[0m                            Traceback (most recent call last)",
      "Input \u001b[0;32mIn [3]\u001b[0m, in \u001b[0;36m<cell line: 14>\u001b[0;34m()\u001b[0m\n\u001b[1;32m     11\u001b[0m                 \u001b[38;5;28;01mfor\u001b[39;00m v \u001b[38;5;129;01min\u001b[39;00m X[i]:\n\u001b[1;32m     12\u001b[0m                     \u001b[38;5;28mprint\u001b[39m(\u001b[38;5;124m\"\u001b[39m\u001b[38;5;124m          \u001b[39m\u001b[38;5;124m\"\u001b[39m,v,\u001b[38;5;124m'\u001b[39m\u001b[38;5;124m=\u001b[39m\u001b[38;5;124m'\u001b[39m,s\u001b[38;5;241m.\u001b[39mget_value(X[i][v]))\n\u001b[0;32m---> 14\u001b[0m \u001b[43mgenTrace\u001b[49m\u001b[43m(\u001b[49m\u001b[43m[\u001b[49m\u001b[38;5;124;43m'\u001b[39;49m\u001b[38;5;124;43mInv_A\u001b[39;49m\u001b[38;5;124;43m'\u001b[39;49m\u001b[43m,\u001b[49m\u001b[38;5;124;43m'\u001b[39;49m\u001b[38;5;124;43mInv_B\u001b[39;49m\u001b[38;5;124;43m'\u001b[39;49m\u001b[43m,\u001b[49m\u001b[38;5;124;43m'\u001b[39;49m\u001b[38;5;124;43mInv_C\u001b[39;49m\u001b[38;5;124;43m'\u001b[39;49m\u001b[43m,\u001b[49m\u001b[38;5;124;43m'\u001b[39;49m\u001b[38;5;124;43mInv_D\u001b[39;49m\u001b[38;5;124;43m'\u001b[39;49m\u001b[43m,\u001b[49m\u001b[38;5;124;43m'\u001b[39;49m\u001b[38;5;124;43mpc\u001b[39;49m\u001b[38;5;124;43m'\u001b[39;49m\u001b[43m]\u001b[49m\u001b[43m,\u001b[49m\u001b[43minit1\u001b[49m\u001b[43m,\u001b[49m\u001b[43mtrans1\u001b[49m\u001b[43m,\u001b[49m\u001b[43merror1\u001b[49m\u001b[43m,\u001b[49m\u001b[38;5;241;43m10\u001b[39;49m\u001b[43m)\u001b[49m\n",
      "Input \u001b[0;32mIn [3]\u001b[0m, in \u001b[0;36mgenTrace\u001b[0;34m(vars, init, trans, error, n)\u001b[0m\n\u001b[1;32m      2\u001b[0m \u001b[38;5;28;01mwith\u001b[39;00m Solver(name\u001b[38;5;241m=\u001b[39m\u001b[38;5;124m\"\u001b[39m\u001b[38;5;124mz3\u001b[39m\u001b[38;5;124m\"\u001b[39m) \u001b[38;5;28;01mas\u001b[39;00m s:\n\u001b[1;32m      4\u001b[0m     X \u001b[38;5;241m=\u001b[39m [genState(\u001b[38;5;28mvars\u001b[39m,\u001b[38;5;124m'\u001b[39m\u001b[38;5;124mX\u001b[39m\u001b[38;5;124m'\u001b[39m,i) \u001b[38;5;28;01mfor\u001b[39;00m i \u001b[38;5;129;01min\u001b[39;00m \u001b[38;5;28mrange\u001b[39m(n\u001b[38;5;241m+\u001b[39m\u001b[38;5;241m1\u001b[39m)]   \u001b[38;5;66;03m# cria n+1 estados (com etiqueta X)\u001b[39;00m\n\u001b[0;32m----> 5\u001b[0m     I \u001b[38;5;241m=\u001b[39m \u001b[43minit\u001b[49m\u001b[43m(\u001b[49m\u001b[43mX\u001b[49m\u001b[43m[\u001b[49m\u001b[38;5;241;43m0\u001b[39;49m\u001b[43m]\u001b[49m\u001b[43m)\u001b[49m\n\u001b[1;32m      6\u001b[0m     Tks \u001b[38;5;241m=\u001b[39m [ trans(X[i],X[i\u001b[38;5;241m+\u001b[39m\u001b[38;5;241m1\u001b[39m]) \u001b[38;5;28;01mfor\u001b[39;00m i \u001b[38;5;129;01min\u001b[39;00m \u001b[38;5;28mrange\u001b[39m(n) ]\n\u001b[1;32m      8\u001b[0m     \u001b[38;5;28;01mif\u001b[39;00m s\u001b[38;5;241m.\u001b[39msolve([I,And(Tks)]):      \u001b[38;5;66;03m# testa se I /\\ T^n  é satisfazível\u001b[39;00m\n",
      "Input \u001b[0;32mIn [2]\u001b[0m, in \u001b[0;36minit1\u001b[0;34m(state)\u001b[0m\n\u001b[1;32m     18\u001b[0m \u001b[38;5;28;01mdef\u001b[39;00m \u001b[38;5;21minit1\u001b[39m(state):\n\u001b[1;32m     19\u001b[0m     \u001b[38;5;28;01mreturn\u001b[39;00m And(Equals(state[\u001b[38;5;124m'\u001b[39m\u001b[38;5;124mpc\u001b[39m\u001b[38;5;124m'\u001b[39m],Int(\u001b[38;5;241m0\u001b[39m)), \n\u001b[0;32m---> 20\u001b[0m           Equals(state[\u001b[38;5;124m'\u001b[39m\u001b[38;5;124mInv_A\u001b[39m\u001b[38;5;124m'\u001b[39m],\u001b[43mInt\u001b[49m\u001b[43m(\u001b[49m\u001b[43mnumpy\u001b[49m\u001b[38;5;241;43m.\u001b[39;49m\u001b[43mrandom\u001b[49m\u001b[38;5;241;43m.\u001b[39;49m\u001b[43mchoice\u001b[49m\u001b[43m(\u001b[49m\u001b[43m[\u001b[49m\u001b[38;5;241;43m0\u001b[39;49m\u001b[43m,\u001b[49m\u001b[38;5;241;43m1\u001b[39;49m\u001b[43m]\u001b[49m\u001b[43m)\u001b[49m\u001b[43m)\u001b[49m),\n\u001b[1;32m     21\u001b[0m            Equals(state[\u001b[38;5;124m'\u001b[39m\u001b[38;5;124mInv_B\u001b[39m\u001b[38;5;124m'\u001b[39m],numpy\u001b[38;5;241m.\u001b[39mrandom\u001b[38;5;241m.\u001b[39mchoice(Int(\u001b[38;5;241m0\u001b[39m),Int(\u001b[38;5;241m1\u001b[39m))),\n\u001b[1;32m     22\u001b[0m            Equals(state[\u001b[38;5;124m'\u001b[39m\u001b[38;5;124mInv_C\u001b[39m\u001b[38;5;124m'\u001b[39m],numpy\u001b[38;5;241m.\u001b[39mrandom\u001b[38;5;241m.\u001b[39mchoice(Int(\u001b[38;5;241m0\u001b[39m),Int(\u001b[38;5;241m1\u001b[39m))),\n\u001b[1;32m     23\u001b[0m            Equals(state[\u001b[38;5;124m'\u001b[39m\u001b[38;5;124mInv_D\u001b[39m\u001b[38;5;124m'\u001b[39m],numpy\u001b[38;5;241m.\u001b[39mrandom\u001b[38;5;241m.\u001b[39mchoice(Int(\u001b[38;5;241m0\u001b[39m),Int(\u001b[38;5;241m1\u001b[39m))),\n\u001b[1;32m     24\u001b[0m            Not(And(Equals(inv_a,Int(\u001b[38;5;241m0\u001b[39m)),Equals(inv_b,Int(\u001b[38;5;241m0\u001b[39m)),Equals(inv_c,Int(\u001b[38;5;241m0\u001b[39m)),Equals(inv_d,Int(\u001b[38;5;241m0\u001b[39m))))\n\u001b[1;32m     25\u001b[0m             )\n",
      "File \u001b[0;32m~/anaconda3/envs/logica/lib/python3.10/site-packages/pysmt/shortcuts.py:262\u001b[0m, in \u001b[0;36mInt\u001b[0;34m(value)\u001b[0m\n\u001b[1;32m    256\u001b[0m \u001b[38;5;28;01mdef\u001b[39;00m \u001b[38;5;21mInt\u001b[39m(value):\n\u001b[1;32m    257\u001b[0m     \u001b[38;5;124;03m\"\"\"Returns an Integer constant with the given value.\u001b[39;00m\n\u001b[1;32m    258\u001b[0m \n\u001b[1;32m    259\u001b[0m \u001b[38;5;124;03m    :param value: Specify the value\u001b[39;00m\n\u001b[1;32m    260\u001b[0m \u001b[38;5;124;03m    :returns: An Integer constant with the given value\u001b[39;00m\n\u001b[1;32m    261\u001b[0m \u001b[38;5;124;03m    \"\"\"\u001b[39;00m\n\u001b[0;32m--> 262\u001b[0m     \u001b[38;5;28;01mreturn\u001b[39;00m \u001b[43mget_env\u001b[49m\u001b[43m(\u001b[49m\u001b[43m)\u001b[49m\u001b[38;5;241;43m.\u001b[39;49m\u001b[43mformula_manager\u001b[49m\u001b[38;5;241;43m.\u001b[39;49m\u001b[43mInt\u001b[49m\u001b[43m(\u001b[49m\u001b[43mvalue\u001b[49m\u001b[43m)\u001b[49m\n",
      "File \u001b[0;32m~/anaconda3/envs/logica/lib/python3.10/site-packages/pysmt/formula.py:372\u001b[0m, in \u001b[0;36mFormulaManager.Int\u001b[0;34m(self, value)\u001b[0m\n\u001b[1;32m    370\u001b[0m     val \u001b[38;5;241m=\u001b[39m pysmt_integer_from_integer(value)\n\u001b[1;32m    371\u001b[0m \u001b[38;5;28;01melse\u001b[39;00m:\n\u001b[0;32m--> 372\u001b[0m     \u001b[38;5;28;01mraise\u001b[39;00m PysmtTypeError(\u001b[38;5;124m\"\u001b[39m\u001b[38;5;124mInvalid type in constant. The type was:\u001b[39m\u001b[38;5;124m\"\u001b[39m \u001b[38;5;241m+\u001b[39m \\\n\u001b[1;32m    373\u001b[0m                          \u001b[38;5;28mstr\u001b[39m(\u001b[38;5;28mtype\u001b[39m(value)))\n\u001b[1;32m    374\u001b[0m n \u001b[38;5;241m=\u001b[39m \u001b[38;5;28mself\u001b[39m\u001b[38;5;241m.\u001b[39mcreate_node(node_type\u001b[38;5;241m=\u001b[39mop\u001b[38;5;241m.\u001b[39mINT_CONSTANT,\n\u001b[1;32m    375\u001b[0m                      args\u001b[38;5;241m=\u001b[39m\u001b[38;5;28mtuple\u001b[39m(),\n\u001b[1;32m    376\u001b[0m                      payload\u001b[38;5;241m=\u001b[39mval)\n\u001b[1;32m    377\u001b[0m \u001b[38;5;28mself\u001b[39m\u001b[38;5;241m.\u001b[39mint_constants[value] \u001b[38;5;241m=\u001b[39m n\n",
      "\u001b[0;31mPysmtTypeError\u001b[0m: Invalid type in constant. The type was:<class 'numpy.int64'>"
     ]
    }
   ],
   "source": [
    "def genTrace(vars,init,trans,error,n):\n",
    "    with Solver(name=\"z3\") as s:\n",
    "        \n",
    "        X = [genState(vars,'X',i) for i in range(n+1)]   # cria n+1 estados (com etiqueta X)\n",
    "        I = init(X[0])\n",
    "        Tks = [ trans(X[i],X[i+1]) for i in range(n) ]\n",
    "        \n",
    "        if s.solve([I,And(Tks)]):      # testa se I /\\ T^n  é satisfazível\n",
    "            for i in range(n):\n",
    "                print(\"Estado:\",i)\n",
    "                for v in X[i]:\n",
    "                    print(\"          \",v,'=',s.get_value(X[i][v]))\n",
    "                    \n",
    "genTrace(['Inv_A','Inv_B','Inv_C','Inv_D','pc'],init1,trans1,error1,10)"
   ]
  },
  {
   "cell_type": "markdown",
   "id": "49296910",
   "metadata": {},
   "source": [
    "###  Model checking com interpolantes"
   ]
  },
  {
   "cell_type": "code",
   "execution_count": null,
   "id": "c98a064e",
   "metadata": {},
   "outputs": [],
   "source": [
    "def invert(trans):\n",
    "    return (lambda c, p: trans(p,c))"
   ]
  }
 ],
 "metadata": {
  "kernelspec": {
   "display_name": "Python 3 (ipykernel)",
   "language": "python",
   "name": "python3"
  },
  "language_info": {
   "codemirror_mode": {
    "name": "ipython",
    "version": 3
   },
   "file_extension": ".py",
   "mimetype": "text/x-python",
   "name": "python",
   "nbconvert_exporter": "python",
   "pygments_lexer": "ipython3",
   "version": "3.10.4"
  }
 },
 "nbformat": 4,
 "nbformat_minor": 5
}
