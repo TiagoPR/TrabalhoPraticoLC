{
 "cells": [
  {
   "cell_type": "markdown",
   "id": "8a6ddc7c",
   "metadata": {},
   "source": [
    "### Trabalho 4 - ABS\n",
    "###### Grupo 19\n",
    "\n",
    "Tiago Passos Rodrigues - A96414"
   ]
  },
  {
   "cell_type": "markdown",
   "id": "7a4d5e01",
   "metadata": {},
   "source": [
    "### Enunciado\n",
    "\n",
    "No contexto do sistema de travagem ABS (“Anti-Lock Breaking System”), pretende-se construir um autómato híbrido que descreva o sistema e que  possa ser usado para verificar as suas propriedades dinâmicas.\n",
    "\n",
    "    \n",
    "   - A componente discreta do autómato contém os modos:  `Start`,  `Free`,  `Stopping`, `Blocked`, e `Stopped`. No modo `Free`  não existe qualquer força de travagem; no modo `Stopping` aplica-se a força de travagem alta; no modo `Blocked` as rodas estão bloqueadas em relação ao corpo mas o veículo  move-se (i.e. derrapa); no modo `Stopped` o veículo está imobilizado.\n",
    "   - A componente contínua  do autómato usa variáveis contínuas $\\,V,v\\,$ para descrever a  `velocidade do corpo`   e a `velocidade linear das rodas`  ambas em relação so solo.\n",
    "   - Assume-se que o sistema de travagem exerce uma força de atrito proporcional à diferença das duas velocidades.  A dinâmica contínua, as equações de fluxo, está descrita  abaixo.\n",
    "   - Os “switchs” são a componente de projeto deste trabalho; cabe ao aluno definir quais devem ser  de modo a que o sistema tenha um comportamento desejável: imobilize-se depressa e não “derrape” muito.\n",
    "   - É imprescindível evitar que o sistema tenha “trajetórias de Zenão”. Isto é, sequências  infinitas de transições  entre dois modos em intervalos de tempo  que tendem para zero mas nunca alcançam zero.\n",
    "\n",
    "Faça \n",
    "\n",
    "1. Defina um autómato híbrido que descreva a dinâmica do sistema segundo as notas abaixo indicadas e com os “switchs” por si escolhidos.\n",
    "2. Modele em lógica temporal linear LT  propriedades que caracterizam o comportamento desejável do sistema. Nomeadamente \n",
    "     1. ”o veículo imobiliza-se completamente em menos de $t$ segundos” \n",
    "     2. “a velocidade $V$ diminui sempre com o tempo”.\n",
    "3. Codifique em SMT’s o modelo que definiu em 1.\n",
    "4. Codifique em SMT’s a verificação das propriedades temporais que definiu em 2."
   ]
  },
  {
   "cell_type": "markdown",
   "id": "ccb0406c",
   "metadata": {},
   "source": [
    "### Implementação"
   ]
  },
  {
   "cell_type": "code",
   "execution_count": 1,
   "id": "962ebb32",
   "metadata": {},
   "outputs": [],
   "source": [
    "from pysmt.shortcuts import *\n",
    "from pysmt.typing import *\n",
    "\n",
    "Start = Int(-1)\n",
    "Free = Int(0)\n",
    "Stopping = Int(1)\n",
    "Blocked = Int(2)\n",
    "Stopped = Int(3)"
   ]
  },
  {
   "cell_type": "markdown",
   "id": "89c33d2e",
   "metadata": {},
   "source": [
    "#### Variáveis\n",
    "\n",
    "Variáveis do autómato híbrido:\n",
    "- uma variável discreta que denota o *modo de funcionamento* ($m$)\n",
    "- uma variável contínua que denota a velocidade do corpo ($V$)\n",
    "- uma variável contínua que denota a velocidade linear das rodas ($v$)\n",
    "- uma constante que denota a força de atrito ($f$)\n",
    "- variável dos segundos passados ($t$)"
   ]
  },
  {
   "cell_type": "code",
   "execution_count": 2,
   "id": "46c11c3b",
   "metadata": {},
   "outputs": [],
   "source": [
    "a = 0.5\n",
    "a_blocked = 0.01\n",
    "P = 1000\n",
    "f = a * P\n",
    "VelInicial = 20\n",
    "limite_timer = 0.1\n",
    "c_stopping = 10\n",
    "c = 0.5\n",
    "\n",
    "def declare(i):\n",
    "    s = {}\n",
    "    s['m'] = Symbol('m'+str(i),INT)\n",
    "    s['V'] = Symbol('V'+str(i),REAL)\n",
    "    s['v'] = Symbol('v'+str(i),REAL)\n",
    "    s['t'] = Symbol('t'+str(i),REAL)\n",
    "    s['timer'] = Symbol('timer'+str(i),REAL)\n",
    "    return s"
   ]
  },
  {
   "cell_type": "markdown",
   "id": "5a3dc032",
   "metadata": {},
   "source": [
    "### Estado inicial\n",
    "\n",
    "$$\n",
    "m = \\mathsf{Start} \\wedge V = V_{inicial} \\wedge v = V_{inicial} \\wedge F = 0 \\wedge t = 0\n",
    "$$"
   ]
  },
  {
   "cell_type": "code",
   "execution_count": 3,
   "id": "deeb302f",
   "metadata": {},
   "outputs": [
    {
     "name": "stdout",
     "output_type": "stream",
     "text": [
      "((m0 = -1) & (V0 = 20.0) & (v0 = 20.0) & (t0 = 0.0))\n"
     ]
    }
   ],
   "source": [
    "def init(s):\n",
    "    return And(Equals(s['m'],Start),Equals(s['V'],Real(VelInicial)),Equals(s['v'],Real(VelInicial)),Equals(s['t'],Real(0)))\n",
    "s = declare(0)\n",
    "print(init(s))"
   ]
  },
  {
   "cell_type": "markdown",
   "id": "150acf0e",
   "metadata": {},
   "source": [
    "### Transições\n",
    "\n",
    "As transições do FOTS incluem os dois tipos de transição que podem ocorrer num autómato híbrido:\n",
    "- Transições *timed* descrevem os *flows* associados a cada modo (a evolução das variáveis contínuas)\n",
    "- Transições *untimed* descrevem os *switches* entre modos\n",
    "\n",
    "As transições *untimed* podem ser obtidas através de uma codificação muito directa das guardas e efeitos especificadas nos *switches*, com a restrição que o tempo não evolui nestas transições, nem as variáveis contínuas se modificam a não ser que lhes seja explicitamente atribuído um novo valor no efeito do *switch*. Por exemplo:\n",
    "\n",
    "$$\n",
    "\\begin{array}{c}\n",
    "m = \\mathsf{Start} \\wedge m' = \\mathsf{Free} \\wedge V' = V \\wedge v' = v \\wedge t' = t \\\\\n",
    "\\vee\\\\\n",
    "m = \\mathsf{Free} \\wedge m' = \\mathsf{Stopping} \\wedge V' = V \\wedge v' = v \\wedge t' = t \\wedge t \\ge limitetempo\\\\\n",
    "\\vee\\\\\n",
    "m = \\mathsf{Stopping} \\wedge m' = \\mathsf{Blocked} \\wedge V' = V \\wedge v' = v \\wedge t' = t \\\\\n",
    "\\vee\\\\\n",
    "m = \\mathsf{Stopping} \\wedge m' = \\mathsf{Stopped} \\wedge V' = 0 \\wedge v' = 0 \\wedge t' = t \\\\\n",
    "\\vee\\\\ \n",
    "m = \\mathsf{Blocked} \\wedge m' = \\mathsf{Free} \\wedge V' = V \\wedge v' = v \\wedge t' = t \\wedge t \\ge limitetempo\\\\\n",
    "\\end{array}\n",
    "$$\n",
    "\n",
    "--------------------------------------------------------------------------------"
   ]
  },
  {
   "cell_type": "markdown",
   "id": "db530d53",
   "metadata": {},
   "source": [
    "Nas transições *timed* o modo permanece constante, mas o resto das variáveis evoluem de acordo com as restrições indicadas. Os *flows* são especificados indicando qual a derivada em relação ao tempo de cada variável contínua. Para codificar os *flows* no FOTS é necessário fazer a sua *discretização*, ou seja, indicar qual a variação ocorrida num intervalo de tempo $t'-t$. $\\dot{V} = -F$ temos que $V' - V = -F(t'-t)$. \n",
    "Se a relação de *flow* é amortecida, como por exemplo no modo $\\mathsf{Free}$ do carro, uma pseudo-solução seria aproximar a derivada $\\dot{V}$ por $\\frac{V'-V}{t'-t}$ obtendo-se\n",
    "$(V' - V)/(t'-t) = -F$, mas nesta equação ocorre um produto não-escalar $\\,-F*(t'-t)\\,$ e, por isso,  ela não vai ser decidível.\n",
    "Uma sugestão para discretizar consiste em usar um valor constante para substituir a variável $F$, inferido a partir do invariante de modo. Neste caso a equação de flow transforma-se numa inequação.\n",
    "\n",
    "\n",
    "Por exemplo, como sabemos que $F = 0$ podemos substituir $F$ por 0 na equação, dando origem à relação $V' - V = -0(t'-t)$. \n",
    "No caso do *flow* associado ao modo $\\mathsf{ON}$, $5\\dot{x}+x=25$,  como $x \\le 22$ podemos aproximar $x$ por 22, dando origem à relação $x' - x \\ge \\frac{3}{5}(t'-t)$. \n",
    "\n",
    "Finalmente, é necessário também impor os invariantes dos modos no FOTS. Isso pode ser feito acrescentando a cada transição uma restrição que obriga o invariante a ser cumprido. Temos também que assugurar que o tempo avança."
   ]
  },
  {
   "cell_type": "markdown",
   "id": "a1e32476",
   "metadata": {},
   "source": [
    "Com esta técnica, no caso do termostato teríamos as seguintes duas transições *timed*:\n",
    "\n",
    "$$\n",
    "\\begin{array}{c}\n",
    "m = \\mathsf{Free} \\wedge m' = m \\wedge V' - V = -F(t'-t) \\wedge F \\gt 0 \\wedge F' \\gt 0 \\wedge t'>t \\\\\n",
    "\\vee\\\\\n",
    "m = \\mathsf{Stopping} \\wedge m' = m \\wedge x' - x \\ge \\frac{3}{5}(t'-t) \\wedge x \\le 22 \\wedge x' \\le 22 \\wedge t' > t \\\\\n",
    "\\vee\\\\\n",
    "m = \\mathsf{Blocked} \\wedge m' = m \\wedge x' - x \\ge \\frac{3}{5}(t'-t) \\wedge x \\le 22 \\wedge x' \\le 22 \\wedge t' > t\n",
    "\\end{array}\n",
    "$$\n",
    "\n",
    "Para reduzir os erros na verificação pode-se reduzir a granularidade da discretização subdividindo cada modo em vários sub-modos que cubram toda a gama dos valores permitidos. Por exemplo neste caso poderíamos dividir cada um dos modos em 4 sub-modos, cada um com uma variação de temperatura máxima de 1 grau, cobrindo assim toda a gama de temperaturas possíveis (entre 18 e 22 graus)."
   ]
  },
  {
   "cell_type": "code",
   "execution_count": 4,
   "id": "82684b3d",
   "metadata": {},
   "outputs": [],
   "source": [
    "def trans(s,p):\n",
    "    # untimed\n",
    "    startfree = And(Equals(s['m'],Start), Equals(p['m'], Free), Equals(p['V'],s['V']), Equals(p['v'],s['v']), Equals(p['t'],s['t']),\n",
    "                   Equals(s['timer'],Real(0)), Equals(p['timer'],Real(0)))\n",
    "    \n",
    "    freestopping = And(Equals(s['m'],Free), Equals(p['m'], Stopping),  Equals(p['V'],s['V']), Equals(p['v'],s['v']), Equals(p['t'],s['t']),\n",
    "                      GE(s['timer'],Real(limite_timer)), Equals(p['timer'],Real(0)))\n",
    "    \n",
    "    stoppingblocked = And(Equals(s['m'],Stopping), Equals(p['m'], Blocked),  Equals(p['V'],s['V']), Equals(p['v'],s['v']), Equals(p['t'],s['t']),\n",
    "                        Equals(p['timer'],Real(0)))\n",
    "    \n",
    "    stoppingstopped = And(Equals(s['m'],Stopping), Equals(p['m'], Stopped), Equals(p['V'],Real(0)), Equals(p['v'],Real(0)), Equals(p['t'],s['t']))\n",
    "    \n",
    "    blockedfree = And(Equals(s['m'],Blocked), Equals(p['m'], Free), Equals(p['V'],s['V']), Equals(p['v'],s['v']), Equals(p['t'],s['t']),\n",
    "                      GE(s['timer'],Real(limite_timer)), Equals(p['timer'],Real(0)))\n",
    "    \n",
    "    #timed\n",
    "    freefree = And(Equals(s['m'],Free), Equals(p['m'], Free),\n",
    "                   LE(p['timer'], Real(limite_timer)),\n",
    "                   Equals(p['timer'] - s['timer'] , p['t'] - s['t']),\n",
    "                GT(p['t'] , s['t']),\n",
    "                GE(p['V'] - s['V'], (-c*(s['V'] - s['v'])) * (p['t'] - s['t'])),\n",
    "                GE(p['v'] - s['v'], (-a*P + c * (s['V'] - s['v'])) * (p['t'] - s['t'])))\n",
    "                \n",
    "    stoppingstopping = And(Equals(s['m'],Stopping), Equals(p['m'], Stopping),\n",
    "                Equals(s['timer'], Real(0)), Equals(p['timer'], Real(0)),\n",
    "                GT(p['t'],s['t']),\n",
    "                GE(p['V'] - s['V'],(-c_stopping*(p['V'] - s['v'])) * (p['t'] - s['t'])),\n",
    "                GE(p['v'] - s['v'] , (-a*P + c_stopping * (s['V'] - s['v'])) * (p['t'] - s['t'])),\n",
    "                LE(s['v'], s['V']),\n",
    "                LE(p['v'], p['V']))\n",
    "    \n",
    "    blockedblocked = And(Equals(s['m'], Blocked), Equals(p['m'], Blocked), LT(s['t'] , p['t']),\n",
    "                        LE(p['timer'], Real(limite_timer)),\n",
    "                        GE(p['v'] - s['v'], ((-a_blocked * P) * (p['t'] - s['t']))),\n",
    "                        LE(s['v'], s['V']),\n",
    "                        LE(p['v'], p['V']))\n",
    "    \n",
    "    stoppedstopped = And(Equals(s['m'], Stopped), Equals(p['m'], Stopped), Equals(s['t'], p['t']),\n",
    "                        Equals(p['v'], s['v']), Equals(p['V'], s['V']), Equals(s['timer'], Real(0)),\n",
    "                        Equals(p['timer'], Real(0)))\n",
    "                         \n",
    "    \n",
    "    return Or([startfree,freestopping,stoppingblocked,stoppingstopped,blockedfree,\n",
    "               freefree,stoppingstopping,blockedblocked,stoppedstopped])"
   ]
  },
  {
   "cell_type": "markdown",
   "id": "757070a6",
   "metadata": {},
   "source": [
    "### Simulação"
   ]
  },
  {
   "cell_type": "code",
   "execution_count": 5,
   "id": "cca4d87c",
   "metadata": {},
   "outputs": [
    {
     "name": "stdout",
     "output_type": "stream",
     "text": [
      "Passo  0\n",
      "m = -1\n",
      "V = 20.0\n",
      "v = 20.0\n",
      "t = 0.0\n",
      "timer = 0.0\n",
      "------------------------\n",
      "Passo  1\n",
      "m = 0\n",
      "V = 20.0\n",
      "v = 20.0\n",
      "t = 0.0\n",
      "timer = 0.0\n",
      "------------------------\n",
      "Passo  2\n",
      "m = 0\n",
      "V = 20.0\n",
      "v = -270215977642229785/9007199254740992\n",
      "t = 3602879701896397/36028797018963968\n",
      "timer = 3602879701896397/36028797018963968\n",
      "------------------------\n",
      "Passo  3\n",
      "m = 1\n",
      "V = 20.0\n",
      "v = -270215977642229785/9007199254740992\n",
      "t = 3602879701896397/36028797018963968\n",
      "timer = 0.0\n",
      "------------------------\n",
      "Passo  4\n",
      "m = 3\n",
      "V = 0.0\n",
      "v = 0.0\n",
      "t = 3602879701896397/36028797018963968\n",
      "timer = 0.0\n",
      "------------------------\n"
     ]
    }
   ],
   "source": [
    "def gera_traco(declare,init,trans,k):\n",
    "    with Solver(name=\"z3\") as s:\n",
    "        \n",
    "        trace = [declare(i) for i in range(k)]\n",
    "        \n",
    "        #semantics\n",
    "        s.add_assertion(init(trace[0]))\n",
    "        for i in range(k-1):\n",
    "            s.add_assertion(trans(trace[i], trace[i+1]))\n",
    "            \n",
    "        if s.solve():\n",
    "            '''\n",
    "            m = s.get_model()\n",
    "            for n, v in m:\n",
    "                print(f'{n} = {v}')\n",
    "            '''\n",
    "            for i in range(k):\n",
    "                print(\"Passo \",i)\n",
    "                for v in trace[i]:\n",
    "                    print(v, \"=\", s.get_value(trace[i][v]))\n",
    "                print(\"------------------------\")\n",
    "    \n",
    "                        \n",
    "####\n",
    "gera_traco(declare,init,trans,5)"
   ]
  },
  {
   "cell_type": "code",
   "execution_count": null,
   "id": "f439cebb",
   "metadata": {},
   "outputs": [],
   "source": []
  }
 ],
 "metadata": {
  "kernelspec": {
   "display_name": "Python 3 (ipykernel)",
   "language": "python",
   "name": "python3"
  },
  "language_info": {
   "codemirror_mode": {
    "name": "ipython",
    "version": 3
   },
   "file_extension": ".py",
   "mimetype": "text/x-python",
   "name": "python",
   "nbconvert_exporter": "python",
   "pygments_lexer": "ipython3",
   "version": "3.10.4"
  }
 },
 "nbformat": 4,
 "nbformat_minor": 5
}
