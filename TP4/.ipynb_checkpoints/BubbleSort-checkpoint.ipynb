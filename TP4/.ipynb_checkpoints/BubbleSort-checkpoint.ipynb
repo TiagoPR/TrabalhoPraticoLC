{
 "cells": [
  {
   "cell_type": "markdown",
   "id": "fd48a9c8",
   "metadata": {},
   "source": [
    "### Trabalho 4 - BubbleSort\n",
    "###### Grupo 19\n",
    "\n",
    "Tiago Passos Rodrigues - A96414"
   ]
  },
  {
   "cell_type": "markdown",
   "id": "45817beb",
   "metadata": {},
   "source": [
    "### Enunciado\n",
    "\n",
    "O programa `Python` seguinte implementa o algoritmo de bubble sort para ordenação in situ de um array de inteiros `seq`.\n",
    "\n",
    "```python\n",
    "    seq = [-2,1,2,-1,4,-4,-3,3]\n",
    "    changed = True\n",
    "    while changed:\n",
    "        changed = False\n",
    "        for i in range(len(seq) - 1):\n",
    "            if seq[i] > seq[i+1]:\n",
    "                seq[i], seq[i+1] = seq[i+1], seq[i]\n",
    "                changed = True\n",
    "    pass            \n",
    "```\n",
    "\n",
    "1. Defina a pré-condição e a pós-condição que descrevem a especificação deste algoritmo.\n",
    "2. O ciclo `for` pode ser descrito por uma transição $\\,\\mathtt{seq}\\gets \\mathit{exp}(\\mathtt{seq})\\,$. Construa uma relação de transição $\\;\\mathsf{trans}(\\mathtt{seq},\\mathtt{seq}')\\,$ que modele esta atribuição.\n",
    "3. Usando a técnica que lhe parecer mais conveniente verifique a correção do algoritmo."
   ]
  },
  {
   "cell_type": "markdown",
   "id": "8387268c",
   "metadata": {},
   "source": [
    "### Implementação"
   ]
  },
  {
   "cell_type": "code",
   "execution_count": 1,
   "id": "8975d6d9",
   "metadata": {},
   "outputs": [
    {
     "name": "stdout",
     "output_type": "stream",
     "text": [
      "[-4, -3, -2, -1, 1, 2, 3, 4]\n"
     ]
    }
   ],
   "source": [
    "from pysmt.shortcuts import *\n",
    "from pysmt.typing import *\n",
    "\n",
    "seq = [-2,1,2,-1,4,-4,-3,3]\n",
    "\n",
    "def bubble_sort(seq):\n",
    "    changed = True\n",
    "    while changed:\n",
    "        changed = False\n",
    "        for i in range(len(seq) - 1):\n",
    "            if seq[i] > seq[i+1]:\n",
    "                seq[i], seq[i+1] = seq[i+1], seq[i]\n",
    "                changed = True\n",
    "    return seq            \n",
    "\n",
    "print(bubble_sort(seq))\n",
    "\n",
    "n = 8\n",
    "seq = Symbol('seq', ArrayType(INT, INT))\n",
    "seq_ = Symbol('seq_', ArrayType(INT, INT))\n",
    "changed = Symbol('changed', BOOL)\n",
    "j = Symbol('j',INT)"
   ]
  },
  {
   "cell_type": "markdown",
   "id": "bfb493c4",
   "metadata": {},
   "source": [
    "1. Defina a pré-condição e a pós-condição que descrevem a especificação deste algoritmo.\n",
    "\n",
    "```python\n",
    "Sejam  pre = changed == True\n",
    "       pos = forall j . 0 <= j < n -> Seq[j+1] >= Seq[j]\n",
    "```"
   ]
  },
  {
   "cell_type": "code",
   "execution_count": 2,
   "id": "a5ca4d61",
   "metadata": {},
   "outputs": [],
   "source": [
    "pre = Iff(changed,TRUE())\n",
    "pos = And(Iff(changed,FALSE()),ForAll([j],Implies(And(j>=Int(0),j<n),Select(seq,j+1) >= Select(seq,j))))"
   ]
  },
  {
   "cell_type": "markdown",
   "id": "2056f9ef",
   "metadata": {},
   "source": [
    "2. O ciclo `for` pode ser descrito por uma transição $\\,\\mathtt{seq}\\gets \\mathit{exp}(\\mathtt{seq})\\,$. Construa uma relação de transição $\\;\\mathsf{trans}(\\mathtt{seq},\\mathtt{seq}')\\,$ que modele esta atribuição."
   ]
  },
  {
   "cell_type": "code",
   "execution_count": 3,
   "id": "591e7298",
   "metadata": {},
   "outputs": [
    {
     "name": "stdout",
     "output_type": "stream",
     "text": [
      "Proved\n",
      "Array{Int, Int}(0)\n"
     ]
    }
   ],
   "source": [
    "for i in range(n):\n",
    "    seq = Store(seq, Int(i), Select(seq,Int(i)))\n",
    "\n",
    "def trans(seq,seq_,changed):\n",
    "    for i in range(n):\n",
    "        seq_ = Store(seq_,Int(i),Select(seq,Int(i)))\n",
    "    for i in range(n):\n",
    "        a = Ite(GT(Select(seq_,Int(i)),Select(seq_,Int(i+1))),\n",
    "            Select(seq_,Int(i+1)),\n",
    "            Select(seq,Int(i)))\n",
    "        \n",
    "        b = Ite(GT(Select(seq_,Int(i)),Select(seq_,Int(i+1))),\n",
    "            Select(seq_,Int(i)),\n",
    "            Select(seq,Int(i+1)))\n",
    "        \n",
    "        seq_ = Store(seq_,Int(i),a)\n",
    "        seq_ = Store(seq_,Int(i+1),b)\n",
    "        changed = TRUE()\n",
    "        \n",
    "    return seq_,changed\n",
    "\n",
    "with Solver(name='z3') as s:\n",
    "    seq_,changed = trans(seq,seq_,changed)\n",
    "    s.add_assertion(changed)\n",
    "    if s.solve():\n",
    "        print(\"Proved\")\n",
    "        print(s.get_value(seq_))\n",
    "    else:\n",
    "        print(\"Not Proved\")"
   ]
  },
  {
   "cell_type": "code",
   "execution_count": 4,
   "id": "d9275dcf",
   "metadata": {},
   "outputs": [
    {
     "name": "stdout",
     "output_type": "stream",
     "text": [
      "Provado\n",
      "Array{Int, Int}(9)[0 := 1][1 := 2][2 := -1][3 := 4][4 := -4][5 := 3][6 := -3][7 := -3][8 := 19]\n"
     ]
    }
   ],
   "source": [
    "for i in range(n):\n",
    "    x = [Int(-2),Int(1),Int(2),Int(-1),Int(4),Int(-4),Int(3),Int(-3)]\n",
    "    seq = Store(seq,Int(i),x[i])\n",
    "\n",
    "def trans(seq,seq_):\n",
    "    for i in range(n):\n",
    "        seq_ = Store(seq_,Int(i),Select(seq,Int(i)))\n",
    "    for i in range(n - 1):\n",
    "            if (Select(seq_, Int(i)) > Select(seq_, Int(i+1))):\n",
    "                seq_ = Store(seq_, Int(i), Select(seq_, Int(i+1)))\n",
    "                seq_ = Store(seq_, Int(i+1), Select(seq_, Int(i)))\n",
    "    return seq_\n",
    "        \n",
    "with Solver(name=\"z3\") as s:\n",
    "    seq_ = trans(seq,seq_)\n",
    "    s.add_assertion(Not(Equals(seq_,seq)))\n",
    "    if s.solve():\n",
    "        print(\"Provado\")\n",
    "        print(s.get_value(seq_))\n",
    "    else:\n",
    "        print(\"Não provado\")"
   ]
  },
  {
   "cell_type": "markdown",
   "id": "41c345aa",
   "metadata": {
    "scrolled": true
   },
   "source": [
    "3. Usando a técnica que lhe parecer mais conveniente verifique a correção do algoritmo.\n",
    "\n",
    "\n",
    "“Single Assignment Unfold” (SAU)\n",
    "\n",
    "A abordagem para analisar a correção  do algoritmo foi $\\;\\{\\phi\\}\\;W\\;\\{\\varphi\\}\\;$, sendo\n",
    "\n",
    "$$W\\;\\equiv\\quad\\mathsf{while}\\;b \\;\\mathsf{do}\\;S\\;\\mathsf{od}$$\n",
    "                                \n",
    "\n",
    "passa por “esticar” (unfold) a execução do ciclo numa aproximação formada por uma sequência finita  numero finito de execuções do “corpo do ciclo”.\n",
    "\n",
    " A metodologia para provar a correção do triplo  $\\;\\{\\phi\\}\\;W\\;\\{\\varphi\\}\\;$ consiste em calcular os diversos  $\\,W_n\\,$ sucessivamente, até  que se encontre um para o qual o programa\n",
    "\n",
    "$$\\mathsf{assume}\\,\\phi\\,;\\,W_n\\;\\mathsf{assert}\\,\\varphi\\,$$\n",
    "\n",
    "esteja correto."
   ]
  },
  {
   "cell_type": "code",
   "execution_count": 5,
   "id": "352184f6",
   "metadata": {},
   "outputs": [],
   "source": [
    "\n",
    "from pysmt.shortcuts import *\n",
    "from pysmt.typing import *\n",
    "\n",
    "# Auxiliares\n",
    "def prime(v):\n",
    "    return Symbol(\"next(%s)\" % v.symbol_name(), v.symbol_type())\n",
    "def fresh(v):\n",
    "    return FreshSymbol(typename=v.symbol_type(),template=v.symbol_name()+\"_%d\")\n",
    "\n",
    "# A classe \"Sigle Assignment Unfold\"\n",
    "class SAU(object):\n",
    "    \"\"\"Trivial representation of a while cycle and its unfolding.\"\"\"\n",
    "    def __init__(self, variables, pre , pos, control, trans, sname=\"z3\"):\n",
    "              \n",
    "        self.variables = variables       # variables   \n",
    "        self.pre = pre                   # pre-condition as a predicate in \"variables\"\n",
    "        self.pos = pos                   # pos-condition as a predicate in \"variables\"\n",
    "        self.control = control           # cycle control as a predicate in \"variables\"\n",
    "        self.trans = trans               # cycle body as a binary transition relation \n",
    "                                         # in \"variables\" and \"prime variables\"\n",
    "        \n",
    "        self.prime_variables = [prime(v) for v in self.variables]\n",
    "        self.frames = [And([Not(control),pos])]  \n",
    "                 # inializa com uma só frame: a da terminação do ciclo\n",
    "        \n",
    "        self.solver = Solver(name=sname)\n",
    "\n",
    "    def new_frame(self):        \n",
    "        freshs = [fresh(v) for v in self.variables]    \n",
    "        b = self.control\n",
    "        S = self.trans.substitute(dict(zip(self.prime_variables,freshs)))\n",
    "        W = self.frames[-1].substitute(dict(zip(self.variables,freshs)))\n",
    "        \n",
    "        self.frames.append(And([b , ForAll(freshs, Implies(S, W))]))\n",
    "        \n",
    "    def unfold(self,bound=0):\n",
    "        n = 0\n",
    "        while True:\n",
    "            if n > bound:\n",
    "                print(\"falha: número de tentativas ultrapassa o limite %d \"%bound)\n",
    "                break\n",
    "            \n",
    "            f = Or(self.frames)\n",
    "            if self.solver.solve([self.pre,Not(f)]):  \n",
    "                self.new_frame()\n",
    "                n += 1\n",
    "            else:\n",
    "                print(\"sucesso na tentativa %d \"%n)\n",
    "                break"
   ]
  },
  {
   "cell_type": "code",
   "execution_count": 6,
   "id": "74194344",
   "metadata": {},
   "outputs": [
    {
     "ename": "TypeError",
     "evalue": "trans() takes 2 positional arguments but 3 were given",
     "output_type": "error",
     "traceback": [
      "\u001b[0;31m---------------------------------------------------------------------------\u001b[0m",
      "\u001b[0;31mTypeError\u001b[0m                                 Traceback (most recent call last)",
      "Input \u001b[0;32mIn [6]\u001b[0m, in \u001b[0;36m<cell line: 4>\u001b[0;34m()\u001b[0m\n\u001b[1;32m      1\u001b[0m variables \u001b[38;5;241m=\u001b[39m [seq,seq_,changed,j]\n\u001b[1;32m      3\u001b[0m cond \u001b[38;5;241m=\u001b[39m  Iff(changed,TRUE())                \u001b[38;5;66;03m# condição de controlo do ciclo\u001b[39;00m\n\u001b[0;32m----> 4\u001b[0m trans \u001b[38;5;241m=\u001b[39m \u001b[43mtrans\u001b[49m\u001b[43m(\u001b[49m\u001b[43mseq\u001b[49m\u001b[43m,\u001b[49m\u001b[43mseq_\u001b[49m\u001b[43m,\u001b[49m\u001b[43mchanged\u001b[49m\u001b[43m)\u001b[49m     \u001b[38;5;66;03m# corpo do ciclo como uma relaçao de transição\u001b[39;00m\n\u001b[1;32m      6\u001b[0m W \u001b[38;5;241m=\u001b[39m SAU(variables, pre, pos, cond, trans)\n\u001b[1;32m      8\u001b[0m \u001b[38;5;66;03m#Run\u001b[39;00m\n",
      "\u001b[0;31mTypeError\u001b[0m: trans() takes 2 positional arguments but 3 were given"
     ]
    }
   ],
   "source": [
    "variables = [seq,seq_,changed,j]\n",
    "\n",
    "cond =  Iff(changed,TRUE())                # condição de controlo do ciclo\n",
    "trans = trans(seq,seq_)     # corpo do ciclo como uma relaçao de transição\n",
    "\n",
    "W = SAU(variables, pre, pos, cond, trans)\n",
    "\n",
    "#Run\n",
    "W.unfold(6)"
   ]
  }
 ],
 "metadata": {
  "kernelspec": {
   "display_name": "Python 3 (ipykernel)",
   "language": "python",
   "name": "python3"
  },
  "language_info": {
   "codemirror_mode": {
    "name": "ipython",
    "version": 3
   },
   "file_extension": ".py",
   "mimetype": "text/x-python",
   "name": "python",
   "nbconvert_exporter": "python",
   "pygments_lexer": "ipython3",
   "version": "3.10.4"
  }
 },
 "nbformat": 4,
 "nbformat_minor": 5
}
