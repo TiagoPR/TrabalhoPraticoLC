{
 "cells": [
  {
   "cell_type": "markdown",
   "id": "fd48a9c8",
   "metadata": {},
   "source": [
    "### Trabalho 4 - BubbleSort\n",
    "###### Grupo 19\n",
    "\n",
    "Tiago Passos Rodrigues - A96414"
   ]
  },
  {
   "cell_type": "markdown",
   "id": "45817beb",
   "metadata": {},
   "source": [
    "### Enunciado\n",
    "\n",
    "O programa `Python` seguinte implementa o algoritmo de bubble sort para ordenação in situ de um array de inteiros `seq`.\n",
    "\n",
    "\n",
    "    seq = [-2,1,2,-1,4,-4,-3,3]\n",
    "    changed = True\n",
    "    while changed:\n",
    "        changed = False\n",
    "        for i in range(len(seq) - 1):\n",
    "            if seq[i] > seq[i+1]:\n",
    "                seq[i], seq[i+1] = seq[i+1], seq[i]\n",
    "                changed = True\n",
    "    pass            \n",
    "\n",
    "\n",
    "1. Defina a pré-condição e a pós-condição que descrevem a especificação deste algoritmo.\n",
    "2. Sugira um invariante.\n",
    "3. O ciclo `for` pode ser descrito por uma transição $\\,\\mathtt{seq}\\gets \\mathit{exp}(\\mathtt{seq})\\,$. Construa uma relação de transição $\\;\\mathsf{trans}(\\mathtt{seq},\\mathtt{seq}')\\,$ que modele esta atribuição.\n",
    "4. Usando a técnica que lhe parecer mais conveniente verifique a correção do algoritmo."
   ]
  },
  {
   "cell_type": "markdown",
   "id": "8387268c",
   "metadata": {},
   "source": [
    "### Implementação"
   ]
  },
  {
   "cell_type": "markdown",
   "id": "ba4d9627",
   "metadata": {},
   "source": [
    "1. Pré-Condição: Seq $\\neq$ Vazio $\\quad$ Pós-Condição: \n",
    "2. $P(i) = \\quad \\forall_{i < k <= n} \\cdot \\quad seq_{k} = max(seq[1..k])$"
   ]
  },
  {
   "cell_type": "code",
   "execution_count": null,
   "id": "ada0e859",
   "metadata": {},
   "outputs": [],
   "source": []
  }
 ],
 "metadata": {
  "kernelspec": {
   "display_name": "Python 3 (ipykernel)",
   "language": "python",
   "name": "python3"
  },
  "language_info": {
   "codemirror_mode": {
    "name": "ipython",
    "version": 3
   },
   "file_extension": ".py",
   "mimetype": "text/x-python",
   "name": "python",
   "nbconvert_exporter": "python",
   "pygments_lexer": "ipython3",
   "version": "3.10.4"
  }
 },
 "nbformat": 4,
 "nbformat_minor": 5
}
