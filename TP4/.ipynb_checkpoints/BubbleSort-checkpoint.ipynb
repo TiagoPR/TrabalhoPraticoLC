{
 "cells": [
  {
   "cell_type": "markdown",
   "id": "fd48a9c8",
   "metadata": {},
   "source": [
    "### Trabalho 4 - BubbleSort\n",
    "###### Grupo 19\n",
    "\n",
    "Tiago Passos Rodrigues - A96414"
   ]
  },
  {
   "cell_type": "markdown",
   "id": "45817beb",
   "metadata": {},
   "source": [
    "### Enunciado\n",
    "\n",
    "O programa `Python` seguinte implementa o algoritmo de bubble sort para ordenação in situ de um array de inteiros `seq`.\n",
    "\n",
    "```python\n",
    "    seq = [-2,1,2,-1,4,-4,-3,3]\n",
    "    changed = True\n",
    "    while changed:\n",
    "        changed = False\n",
    "        for i in range(len(seq) - 1):\n",
    "            if seq[i] > seq[i+1]:\n",
    "                seq[i], seq[i+1] = seq[i+1], seq[i]\n",
    "                changed = True\n",
    "    pass            \n",
    "```\n",
    "\n",
    "1. Defina a pré-condição e a pós-condição que descrevem a especificação deste algoritmo.\n",
    "2. O ciclo `for` pode ser descrito por uma transição $\\,\\mathtt{seq}\\gets \\mathit{exp}(\\mathtt{seq})\\,$. Construa uma relação de transição $\\;\\mathsf{trans}(\\mathtt{seq},\\mathtt{seq}')\\,$ que modele esta atribuição.\n",
    "3. Usando a técnica que lhe parecer mais conveniente verifique a correção do algoritmo."
   ]
  },
  {
   "cell_type": "markdown",
   "id": "8387268c",
   "metadata": {},
   "source": [
    "### Implementação\n",
    "\n",
    "```python\n",
    "Sejam  pre = changed == True\n",
    "       pos = forall j . 0 <= j < n -> Seq[j+1] >= Seq[j]\n",
    "       inv = i<=n and forall j . 0 <= j < i -> Seq[j+1] >= Seq[j]\n",
    "```\n",
    "\n",
    "Denotações via WPC\n",
    "```python\n",
    "init = [assume pre; assert inv]\n",
    "     = pre -> [assert inv]\n",
    "     = pre -> inv\n",
    "        \n",
    "util = [assume inv and Not(changed); assert pos]\n",
    "     = (inv and Not(changed)) -> [assert pos]\n",
    "     = (inv and Not(changed)) -> pos\n",
    "        \n",
    "```"
   ]
  },
  {
   "cell_type": "code",
   "execution_count": null,
   "id": "66747db1",
   "metadata": {},
   "outputs": [],
   "source": [
    "n = 10\n",
    "seq = Symbol('Seq', ArrayType(INT, INT))\n",
    "c = Symbol('c',BOOL)\n",
    "i = Symbol('i',INT)\n",
    "j = Symbol('j',INT)\n",
    "\n",
    "\n",
    "pre = Equals(c,True)\n",
    "pos = And(Equals(c,False),ForAll([j],Implies(And(j>=Int(0),j<n),Select(seq,j+1) >= Select(seq,j))))\n",
    "inv = And(i<=n,ForAll([j],Implies(And(j>=Int(0),j<i),Select(seq,j+1) >= Select(A,j))))\n",
    "\n",
    "init = Implies(pre,inv)\n",
    "pres = \n",
    "util = Implies(And(inv,Not(c)),pos)\n",
    "\n"
   ]
  },
  {
   "cell_type": "markdown",
   "id": "ba4d9627",
   "metadata": {},
   "source": [
    "pre = changed = True\n",
    "   \n",
    "Pós-Condição: $P(i) = \\quad \\forall_{0 <= j < n} \\cdot \\quad seq_{j} <= seq_{j+1}$\n",
    "\n",
    "2. $P(i) = \\quad \\forall_{i < k <= n} \\cdot \\quad seq_{k} = max(seq[1..k])$"
   ]
  },
  {
   "cell_type": "code",
   "execution_count": 2,
   "id": "ada0e859",
   "metadata": {},
   "outputs": [],
   "source": [
    "from pysmt.shortcuts import *\n",
    "from pysmt.typing import *\n",
    "\n",
    "def prove(f):\n",
    "    with Solver(name=\"z3\") as s:\n",
    "        s.add_assertion(Not(f))\n",
    "        if s.solve():\n",
    "            print(\"Failed to prove.\")\n",
    "        else:\n",
    "            print(\"Proved.\")"
   ]
  }
 ],
 "metadata": {
  "kernelspec": {
   "display_name": "Python 3 (ipykernel)",
   "language": "python",
   "name": "python3"
  },
  "language_info": {
   "codemirror_mode": {
    "name": "ipython",
    "version": 3
   },
   "file_extension": ".py",
   "mimetype": "text/x-python",
   "name": "python",
   "nbconvert_exporter": "python",
   "pygments_lexer": "ipython3",
   "version": "3.10.4"
  }
 },
 "nbformat": 4,
 "nbformat_minor": 5
}
