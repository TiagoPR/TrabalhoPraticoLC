{
 "cells": [
  {
   "cell_type": "markdown",
   "id": "8a6ddc7c",
   "metadata": {},
   "source": [
    "### Trabalho 4 - ABS\n",
    "###### Grupo 19\n",
    "\n",
    "Tiago Passos Rodrigues - A96414"
   ]
  },
  {
   "cell_type": "markdown",
   "id": "7a4d5e01",
   "metadata": {},
   "source": [
    "### Enunciado\n",
    "\n",
    "No contexto do sistema de travagem ABS (“Anti-Lock Breaking System”), pretende-se construir um autómato híbrido que descreva o sistema e que  possa ser usado para verificar as suas propriedades dinâmicas.\n",
    "\n",
    "    \n",
    "   - A componente discreta do autómato contém os modos:  `Start`,  `Free`,  `Stopping`, `Blocked`, e `Stopped`. No modo `Free`  não existe qualquer força de travagem; no modo `Stopping` aplica-se a força de travagem alta; no modo `Blocked` as rodas estão bloqueadas em relação ao corpo mas o veículo  move-se (i.e. derrapa); no modo `Stopped` o veículo está imobilizado.\n",
    "   - A componente contínua  do autómato usa variáveis contínuas $\\,V,v\\,$ para descrever a  `velocidade do corpo`   e a `velocidade linear das rodas`  ambas em relação so solo.\n",
    "   - Assume-se que o sistema de travagem exerce uma força de atrito proporcional à diferença das duas velocidades.  A dinâmica contínua, as equações de fluxo, está descrita  abaixo.\n",
    "   - Os “switchs” são a componente de projeto deste trabalho; cabe ao aluno definir quais devem ser  de modo a que o sistema tenha um comportamento desejável: imobilize-se depressa e não “derrape” muito.\n",
    "   - É imprescindível evitar que o sistema tenha “trajetórias de Zenão”. Isto é, sequências  infinitas de transições  entre dois modos em intervalos de tempo  que tendem para zero mas nunca alcançam zero.\n",
    "\n",
    "Faça \n",
    "\n",
    "1. Defina um autómato híbrido que descreva a dinâmica do sistema segundo as notas abaixo indicadas e com os “switchs” por si escolhidos.\n",
    "2. Modele em lógica temporal linear LT  propriedades que caracterizam o comportamento desejável do sistema. Nomeadamente \n",
    "     1. ”o veículo imobiliza-se completamente em menos de $t$ segundos” \n",
    "     2. “a velocidade $V$ diminui sempre com o tempo”.\n",
    "3. Codifique em SMT’s o modelo que definiu em 1.\n",
    "4. Codifique em SMT’s a verificação das propriedades temporais que definiu em 2."
   ]
  },
  {
   "cell_type": "markdown",
   "id": "ccb0406c",
   "metadata": {},
   "source": [
    "### Implementação"
   ]
  },
  {
   "cell_type": "code",
   "execution_count": 1,
   "id": "962ebb32",
   "metadata": {},
   "outputs": [],
   "source": [
    "from pysmt.shortcuts import *\n",
    "from pysmt.typing import *\n",
    "\n",
    "Start = Int(-1)\n",
    "Free = Int(0)\n",
    "Stopping = Int(1)\n",
    "Blocked = Int(2)\n",
    "Stopped = Int(3)"
   ]
  },
  {
   "cell_type": "markdown",
   "id": "89c33d2e",
   "metadata": {},
   "source": [
    "#### Variáveis\n",
    "\n",
    "Variáveis do autómato híbrido:\n",
    "- uma variável discreta que denota o *modo de funcionamento* ($m$)\n",
    "- uma variável contínua que denota a velocidade do corpo ($V$)\n",
    "- uma variável contínua que denota a velocidade linear das rodas ($v$)\n",
    "- uma constante que denota a força de atrito ($f$)\n",
    "- variável da força de travagem ($F$)\n",
    "- variável dos segundos passados ($t$)"
   ]
  },
  {
   "cell_type": "code",
   "execution_count": 2,
   "id": "46c11c3b",
   "metadata": {},
   "outputs": [],
   "source": [
    "a = 20\n",
    "P = 500\n",
    "f = a * P\n",
    "VelInicial = 120\n",
    "\n",
    "def declare(i):\n",
    "    s = {}\n",
    "    s['m'] = Symbol('m'+str(i),INT)\n",
    "    s['V'] = Symbol('V'+str(i),REAL)\n",
    "    s['v'] = Symbol('v'+str(i),REAL)\n",
    "    s['F'] = Symbol('F'+str(i),REAL)\n",
    "    s['t'] = Symbol('t'+str(i),REAL)\n",
    "    return s"
   ]
  },
  {
   "cell_type": "markdown",
   "id": "5a3dc032",
   "metadata": {},
   "source": [
    "### Estado inicial\n",
    "\n",
    "$$\n",
    "m = \\mathsf{Start} \\wedge V = V_{inicial} \\wedge v = V_{inicial} \\wedge F = 0 \\wedge t = 0\n",
    "$$"
   ]
  },
  {
   "cell_type": "code",
   "execution_count": 3,
   "id": "deeb302f",
   "metadata": {},
   "outputs": [
    {
     "name": "stdout",
     "output_type": "stream",
     "text": [
      "((m0 = -1) & (V0 = 120.0) & (v0 = 120.0) & (F0 = 0.0) & (t0 = 0.0))\n"
     ]
    }
   ],
   "source": [
    "def init(s):\n",
    "    return And(Equals(s['m'],Start),Equals(s['V'],Real(VelInicial)),Equals(s['v'],Real(VelInicial)),Equals(s['F'],Real(0)),Equals(s['t'],Real(0)))\n",
    "s = declare(0)\n",
    "print(init(s))"
   ]
  },
  {
   "cell_type": "markdown",
   "id": "150acf0e",
   "metadata": {},
   "source": [
    "### Transições\n",
    "\n",
    "As transições do FOTS incluem os dois tipos de transição que podem ocorrer num autómato híbrido:\n",
    "- Transições *timed* descrevem os *flows* associados a cada modo (a evolução das variáveis contínuas)\n",
    "- Transições *untimed* descrevem os *switches* entre modos\n",
    "\n",
    "As transições *untimed* podem ser obtidas através de uma codificação muito directa das guardas e efeitos especificadas nos *switches*, com a restrição que o tempo não evolui nestas transições, nem as variáveis contínuas se modificam a não ser que lhes seja explicitamente atribuído um novo valor no efeito do *switch*. Por exemplo:\n",
    "\n",
    "$$\n",
    "\\begin{array}{c}\n",
    "m = \\mathsf{Start} \\wedge m' = \\mathsf{Free} \\wedge V' = V \\wedge v' = v \\wedge F' = F \\wedge t' = t \\\\\n",
    "\\vee\\\\\n",
    "m = \\mathsf{Free} \\wedge m' = \\mathsf{Stopping} \\wedge V' < V \\wedge v' < v \\wedge F' > 0 \\wedge t' = t \\\\\n",
    "\\vee\\\\\n",
    "m = \\mathsf{Stopping} \\wedge m' = \\mathsf{Blocked} \\wedge V' < V \\wedge v' < v \\wedge F' = 100 \\wedge t' = t \\\\\n",
    "\\vee\\\\\n",
    "m = \\mathsf{Stopping} \\wedge m' = \\mathsf{Stopped} \\wedge V' = 0 \\wedge v' = 0 \\wedge F' > 0 \\wedge t' = t \\\\\n",
    "\\vee\\\\ \n",
    "m = \\mathsf{Blocked} \\wedge m' = \\mathsf{Free} \\wedge V' = V \\wedge v' = v \\wedge F' < 80 \\wedge t' = t \\\\\n",
    "\\end{array}\n",
    "$$\n",
    "\n",
    "--------------------------------------------------------------------------------\n",
    "\n",
    "Nas transições *timed* o modo permanece constante, mas o resto das variáveis evoluem de acordo com as restrições indicadas. Os *flows* são especificados indicando qual a derivada em relação ao tempo de cada variável contínua. Para codificar os *flows* no FOTS é necessário fazer a sua *discretização*, ou seja, indicar qual a variação ocorrida num intervalo de tempo $t'-t$. Se a derivada for uma constante a discretização é trivial. Por exemplo, se $\\dot{x} = k$ temos que $x' - x = k(t'-t)$. \n",
    "Se a relação de *flow* é amortecida, como por exemplo no modo $\\mathsf{OFF}$ do termostato, uma pseudo-solução seria aproximar a derivada $\\dot{x}$ por $\\frac{x'-x}{t'-t}$ obtendo-se\n",
    "$5(x' - x) + x*(t'-t) = 0$, mas nesta equação ocorre um produto não-escalar $\\,x*(t'-t)\\,$ e, por isso,  ela não vai ser decidível.\n",
    "Uma sugestão para discretizar consiste em usar um valor constante para substituir a variável $x$, inferido a partir do invariante de modo. Neste caso a equação de flow transforma-se numa inequação.\n",
    "\n",
    "\n",
    "Por exemplo, no caso do *flow* associado ao modo $\\mathsf{OFF}$, $5\\dot{x}+x=0$,  como sabemos que $x \\ge 18$ podemos substituir $x$ por 18 na equação, dando origem à relação $x' - x \\le -\\frac{18}{5}(t'-t)$. \n",
    "No caso do *flow* associado ao modo $\\mathsf{ON}$, $5\\dot{x}+x=25$,  como $x \\le 22$ podemos aproximar $x$ por 22, dando origem à relação $x' - x \\ge \\frac{3}{5}(t'-t)$. \n",
    "\n",
    "Finalmente, é necessário também impor os invariantes dos modos no FOTS. Isso pode ser feito acrescentando a cada transição uma restrição que obriga o invariante a ser cumprido. Temos também que assugurar que o tempo avança.\n",
    "\n",
    "\n",
    "Com esta técnica, no caso do termostato teríamos as seguintes duas transições *timed*:\n",
    "\n",
    "$$\n",
    "\\begin{array}{c}\n",
    "m = \\mathsf{Free} \\wedge m' = m \\wedge x' - x \\le -\\frac{18}{5}(t'-t) \\wedge x \\ge 18 \\wedge x' \\ge 18 \\wedge t'>t \\\\\n",
    "\\vee\\\\\n",
    "m = \\mathsf{Stopping} \\wedge m' = m \\wedge x' - x \\ge \\frac{3}{5}(t'-t) \\wedge x \\le 22 \\wedge x' \\le 22 \\wedge t' > t \\\\\n",
    "\\vee\\\\\n",
    "m = \\mathsf{Blocked} \\wedge m' = m \\wedge x' - x \\ge \\frac{3}{5}(t'-t) \\wedge x \\le 22 \\wedge x' \\le 22 \\wedge t' > t\n",
    "\\end{array}\n",
    "$$\n",
    "\n",
    "Para reduzir os erros na verificação pode-se reduzir a granularidade da discretização subdividindo cada modo em vários sub-modos que cubram toda a gama dos valores permitidos. Por exemplo neste caso poderíamos dividir cada um dos modos em 4 sub-modos, cada um com uma variação de temperatura máxima de 1 grau, cobrindo assim toda a gama de temperaturas possíveis (entre 18 e 22 graus)."
   ]
  },
  {
   "cell_type": "code",
   "execution_count": null,
   "id": "82684b3d",
   "metadata": {},
   "outputs": [],
   "source": [
    "def trans(s,p):\n",
    "    # completar\n",
    "    # untimed\n",
    "    startfree = And(Equals(s['m'],Start), Equals(p['m'], Free), Equals(p['V'],s['V']), Equals(p['v'],s['v']),Equals(p['F'],s['F']), Equals(p['t'],s['t']))\n",
    "    freestopping = And(Equals(s['m'],Free), Equals(p['m'], Stopping), LT(p['V'],s['V']), LT(p['v'],s['v']),GT(p['F'],Real(0)), Equals(p['t'],s['t']))\n",
    "    stoppingblocked = And(Equals(s['m'],Stopping), Equals(p['m'], Blocked), LT(p['V'],s['V']), LT(p['v'],s['v']),Equals(p['F'],Real(100)), Equals(p['t'],s['t']))\n",
    "    stoppingstopped = And(Equals(s['m'],Stopping), Equals(p['m'], Stopped), Equals(p['V'],Real(0)), Equals(p['v'],Real(0)),GT(p['F'],Real(0)), Equals(p['t'],s['t']))\n",
    "    blockedfree = And(Equals(s['m'],Blocked), Equals(p['m'], Free), Equals(p['V'],s['V']), Equals(p['v'],s['v']),LT(p['F'],Real(80)), Equals(p['t'],s['t']))\n",
    "    \n",
    "    #timed\n",
    "    offoff = And(Equals(s['m'],OFF), Equals(p['m'], OFF),\n",
    "                p['t'] > s['t'], s['x'] >= Real(18), p['x'] >= Real(18),\n",
    "                p['x'] - s['x'] <= -Div(Real(18),Real(5)) * (p['t'] - s['t']))\n",
    "    onon = And(Equals(s['m'],ON), Equals(p['m'], ON),\n",
    "                p['t'] > s['t'], s['x'] <= Real(22), p['x'] <= Real(22),\n",
    "                p['x'] - s['x'] >= Div(Real(3),Real(5)) * (p['t'] - s['t']))\n",
    "    \n",
    "    return Or([initoff,offon,onoff,offoff,onon])"
   ]
  },
  {
   "cell_type": "markdown",
   "id": "757070a6",
   "metadata": {},
   "source": [
    "### Simulação"
   ]
  },
  {
   "cell_type": "code",
   "execution_count": null,
   "id": "cca4d87c",
   "metadata": {},
   "outputs": [],
   "source": [
    "def gera_traco(declare,init,trans,k):\n",
    "    with Solver(name=\"z3\") as s:\n",
    "        \n",
    "        # completar\n",
    "        trace = [declare(i) for i in range(k)]\n",
    "        \n",
    "        #semantics\n",
    "        s.add_assertion(init(trace[0]))\n",
    "        for i in range(k-1):\n",
    "            s.add_assertion(trans(trace[i], trace[i+1]))\n",
    "            \n",
    "        if s.solve():\n",
    "            '''\n",
    "            m = s.get_model()\n",
    "            for n, v in m:\n",
    "                print(f'{n} = {v}')\n",
    "            '''\n",
    "            for i in range(k):\n",
    "                print(\"Passo \",i)\n",
    "                for v in trace[i]:\n",
    "                    print(v, \"=\", s.get_value(trace[i][v]))\n",
    "                print(\"------------------------\")\n",
    "    \n",
    "                        \n",
    "####\n",
    "gera_traco(declare,init,trans,5)"
   ]
  }
 ],
 "metadata": {
  "kernelspec": {
   "display_name": "Python 3 (ipykernel)",
   "language": "python",
   "name": "python3"
  },
  "language_info": {
   "codemirror_mode": {
    "name": "ipython",
    "version": 3
   },
   "file_extension": ".py",
   "mimetype": "text/x-python",
   "name": "python",
   "nbconvert_exporter": "python",
   "pygments_lexer": "ipython3",
   "version": "3.10.4"
  }
 },
 "nbformat": 4,
 "nbformat_minor": 5
}
