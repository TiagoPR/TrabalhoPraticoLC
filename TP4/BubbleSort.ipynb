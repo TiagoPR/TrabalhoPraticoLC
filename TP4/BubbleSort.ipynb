{
 "cells": [
  {
   "cell_type": "markdown",
   "id": "fd48a9c8",
   "metadata": {},
   "source": [
    "### Trabalho 4 - BubbleSort\n",
    "###### Grupo 19\n",
    "\n",
    "Tiago Passos Rodrigues - A96414"
   ]
  },
  {
   "cell_type": "markdown",
   "id": "45817beb",
   "metadata": {},
   "source": [
    "### Enunciado\n",
    "\n",
    "O programa `Python` seguinte implementa o algoritmo de bubble sort para ordenação in situ de um array de inteiros `seq`.\n",
    "\n",
    "```python\n",
    "    seq = [-2,1,2,-1,4,-4,-3,3]\n",
    "    changed = True\n",
    "    while changed:\n",
    "        changed = False\n",
    "        for i in range(len(seq) - 1):\n",
    "            if seq[i] > seq[i+1]:\n",
    "                seq[i], seq[i+1] = seq[i+1], seq[i]\n",
    "                changed = True\n",
    "    pass            \n",
    "```\n",
    "\n",
    "1. Defina a pré-condição e a pós-condição que descrevem a especificação deste algoritmo.\n",
    "2. O ciclo `for` pode ser descrito por uma transição $\\,\\mathtt{seq}\\gets \\mathit{exp}(\\mathtt{seq})\\,$. Construa uma relação de transição $\\;\\mathsf{trans}(\\mathtt{seq},\\mathtt{seq}')\\,$ que modele esta atribuição.\n",
    "3. Usando a técnica que lhe parecer mais conveniente verifique a correção do algoritmo."
   ]
  },
  {
   "cell_type": "markdown",
   "id": "8387268c",
   "metadata": {},
   "source": [
    "### Implementação"
   ]
  },
  {
   "cell_type": "code",
   "execution_count": 1,
   "id": "8975d6d9",
   "metadata": {},
   "outputs": [
    {
     "name": "stdout",
     "output_type": "stream",
     "text": [
      "[-4, -3, -2, -1, 1, 2, 3, 4]\n"
     ]
    }
   ],
   "source": [
    "from pysmt.shortcuts import *\n",
    "from pysmt.typing import *\n",
    "\n",
    "seq = [-2,1,2,-1,4,-4,-3,3]\n",
    "\n",
    "def bubble_sort(seq):\n",
    "    changed = True\n",
    "    while changed:\n",
    "        changed = False\n",
    "        for i in range(len(seq) - 1):\n",
    "            if seq[i] > seq[i+1]:\n",
    "                seq[i], seq[i+1] = seq[i+1], seq[i]\n",
    "                changed = True\n",
    "    return seq            \n",
    "\n",
    "print(bubble_sort(seq))\n",
    "\n",
    "n = 10\n",
    "seq = Symbol('Seq', ArrayType(INT, INT))\n",
    "c = Symbol('c',BOOL)\n",
    "i = Symbol('i',INT)\n",
    "j = Symbol('j',INT)"
   ]
  },
  {
   "cell_type": "code",
   "execution_count": 2,
   "id": "d9275dcf",
   "metadata": {},
   "outputs": [],
   "source": [
    "for i in range(n):\n",
    "    seq = Store(seq,Int(i),Int(1))\n",
    "\n",
    "def trans(seq):\n",
    "    for i in range(n):\n",
    "        ITE(GT(Select(seq,Int(i)),Select(seq,Int(i+1))),\n",
    "            And(Store(seq,Int(i),Select(seq,Int(i))),Store(seq,Int(i+1),Select(seq,Int(i+1)))),\n",
    "            And(Store(seq,Int(i),Select(seq,Int(i+1))),Store(seq,Int(i+1),Select(seq,Int(i)))))"
   ]
  },
  {
   "cell_type": "markdown",
   "id": "dd77b6c2",
   "metadata": {},
   "source": [
    "```python\n",
    "Sejam  pre = changed == True\n",
    "       pos = forall j . 0 <= j < n -> Seq[j+1] >= Seq[j]\n",
    "       inv = i<=n and forall j . 0 <= j < i -> Seq[j+1] >= Seq[j]\n",
    "```\n",
    "\n",
    "Denotações via WPC\n",
    "```python\n",
    "init = [assume pre; assert inv]\n",
    "     = pre -> [assert inv]\n",
    "     = pre -> inv\n",
    "        \n",
    "util = [assume inv and Not(changed); assert pos]\n",
    "     = (inv and Not(changed)) -> [assert pos]\n",
    "     = (inv and Not(changed)) -> pos\n",
    "        \n",
    "```"
   ]
  },
  {
   "cell_type": "code",
   "execution_count": 3,
   "id": "66747db1",
   "metadata": {},
   "outputs": [
    {
     "ename": "AttributeError",
     "evalue": "'bool' object has no attribute 'args'",
     "output_type": "error",
     "traceback": [
      "\u001b[0;31m---------------------------------------------------------------------------\u001b[0m",
      "\u001b[0;31mAttributeError\u001b[0m                            Traceback (most recent call last)",
      "Input \u001b[0;32mIn [3]\u001b[0m, in \u001b[0;36m<cell line: 3>\u001b[0;34m()\u001b[0m\n\u001b[1;32m      1\u001b[0m pre \u001b[38;5;241m=\u001b[39m Iff(c,TRUE())\n\u001b[1;32m      2\u001b[0m pos \u001b[38;5;241m=\u001b[39m And(Iff(c,FALSE()),ForAll([j],Implies(And(j\u001b[38;5;241m>\u001b[39m\u001b[38;5;241m=\u001b[39mInt(\u001b[38;5;241m0\u001b[39m),j\u001b[38;5;241m<\u001b[39mn),Select(seq,j\u001b[38;5;241m+\u001b[39m\u001b[38;5;241m1\u001b[39m) \u001b[38;5;241m>\u001b[39m\u001b[38;5;241m=\u001b[39m Select(seq,j))))\n\u001b[0;32m----> 3\u001b[0m inv \u001b[38;5;241m=\u001b[39m \u001b[43mAnd\u001b[49m\u001b[43m(\u001b[49m\u001b[43mi\u001b[49m\u001b[38;5;241;43m<\u001b[39;49m\u001b[38;5;241;43m=\u001b[39;49m\u001b[43mn\u001b[49m\u001b[43m,\u001b[49m\u001b[43mForAll\u001b[49m\u001b[43m(\u001b[49m\u001b[43m[\u001b[49m\u001b[43mj\u001b[49m\u001b[43m]\u001b[49m\u001b[43m,\u001b[49m\u001b[43mImplies\u001b[49m\u001b[43m(\u001b[49m\u001b[43mAnd\u001b[49m\u001b[43m(\u001b[49m\u001b[43mj\u001b[49m\u001b[38;5;241;43m>\u001b[39;49m\u001b[38;5;241;43m=\u001b[39;49m\u001b[43mInt\u001b[49m\u001b[43m(\u001b[49m\u001b[38;5;241;43m0\u001b[39;49m\u001b[43m)\u001b[49m\u001b[43m,\u001b[49m\u001b[43mj\u001b[49m\u001b[38;5;241;43m<\u001b[39;49m\u001b[43mi\u001b[49m\u001b[43m)\u001b[49m\u001b[43m,\u001b[49m\u001b[43mSelect\u001b[49m\u001b[43m(\u001b[49m\u001b[43mseq\u001b[49m\u001b[43m,\u001b[49m\u001b[43mj\u001b[49m\u001b[38;5;241;43m+\u001b[39;49m\u001b[38;5;241;43m1\u001b[39;49m\u001b[43m)\u001b[49m\u001b[43m \u001b[49m\u001b[38;5;241;43m>\u001b[39;49m\u001b[38;5;241;43m=\u001b[39;49m\u001b[43m \u001b[49m\u001b[43mSelect\u001b[49m\u001b[43m(\u001b[49m\u001b[43mseq\u001b[49m\u001b[43m,\u001b[49m\u001b[43mj\u001b[49m\u001b[43m)\u001b[49m\u001b[43m)\u001b[49m\u001b[43m)\u001b[49m\u001b[43m)\u001b[49m\n\u001b[1;32m      5\u001b[0m init \u001b[38;5;241m=\u001b[39m Implies(pre,inv)\n\u001b[1;32m      6\u001b[0m \u001b[38;5;66;03m# pres = \u001b[39;00m\n",
      "File \u001b[0;32m~/anaconda3/envs/logica/lib/python3.10/site-packages/pysmt/shortcuts.py:306\u001b[0m, in \u001b[0;36mAnd\u001b[0;34m(*args)\u001b[0m\n\u001b[1;32m    304\u001b[0m \u001b[38;5;28;01mdef\u001b[39;00m \u001b[38;5;21mAnd\u001b[39m(\u001b[38;5;241m*\u001b[39margs):\n\u001b[1;32m    305\u001b[0m     \u001b[38;5;124mr\u001b[39m\u001b[38;5;124;03m\"\"\".. math:: \\varphi_0 \\land \\cdots \\land \\varphi_n \"\"\"\u001b[39;00m\n\u001b[0;32m--> 306\u001b[0m     \u001b[38;5;28;01mreturn\u001b[39;00m \u001b[43mget_env\u001b[49m\u001b[43m(\u001b[49m\u001b[43m)\u001b[49m\u001b[38;5;241;43m.\u001b[39;49m\u001b[43mformula_manager\u001b[49m\u001b[38;5;241;43m.\u001b[39;49m\u001b[43mAnd\u001b[49m\u001b[43m(\u001b[49m\u001b[38;5;241;43m*\u001b[39;49m\u001b[43margs\u001b[49m\u001b[43m)\u001b[49m\n",
      "File \u001b[0;32m~/anaconda3/envs/logica/lib/python3.10/site-packages/pysmt/formula.py:428\u001b[0m, in \u001b[0;36mFormulaManager.And\u001b[0;34m(self, *args)\u001b[0m\n\u001b[1;32m    426\u001b[0m     \u001b[38;5;28;01mreturn\u001b[39;00m tuple_args[\u001b[38;5;241m0\u001b[39m]\n\u001b[1;32m    427\u001b[0m \u001b[38;5;28;01melse\u001b[39;00m:\n\u001b[0;32m--> 428\u001b[0m     \u001b[38;5;28;01mreturn\u001b[39;00m \u001b[38;5;28;43mself\u001b[39;49m\u001b[38;5;241;43m.\u001b[39;49m\u001b[43mcreate_node\u001b[49m\u001b[43m(\u001b[49m\u001b[43mnode_type\u001b[49m\u001b[38;5;241;43m=\u001b[39;49m\u001b[43mop\u001b[49m\u001b[38;5;241;43m.\u001b[39;49m\u001b[43mAND\u001b[49m\u001b[43m,\u001b[49m\n\u001b[1;32m    429\u001b[0m \u001b[43m                            \u001b[49m\u001b[43margs\u001b[49m\u001b[38;5;241;43m=\u001b[39;49m\u001b[43mtuple_args\u001b[49m\u001b[43m)\u001b[49m\n",
      "File \u001b[0;32m~/anaconda3/envs/logica/lib/python3.10/site-packages/pysmt/formula.py:96\u001b[0m, in \u001b[0;36mFormulaManager.create_node\u001b[0;34m(self, node_type, args, payload)\u001b[0m\n\u001b[1;32m     94\u001b[0m \u001b[38;5;28mself\u001b[39m\u001b[38;5;241m.\u001b[39m_next_free_id \u001b[38;5;241m+\u001b[39m\u001b[38;5;241m=\u001b[39m \u001b[38;5;241m1\u001b[39m\n\u001b[1;32m     95\u001b[0m \u001b[38;5;28mself\u001b[39m\u001b[38;5;241m.\u001b[39mformulae[content] \u001b[38;5;241m=\u001b[39m n\n\u001b[0;32m---> 96\u001b[0m \u001b[38;5;28;43mself\u001b[39;49m\u001b[38;5;241;43m.\u001b[39;49m\u001b[43m_do_type_check\u001b[49m\u001b[43m(\u001b[49m\u001b[43mn\u001b[49m\u001b[43m)\u001b[49m\n\u001b[1;32m     97\u001b[0m \u001b[38;5;28;01mreturn\u001b[39;00m n\n",
      "File \u001b[0;32m~/anaconda3/envs/logica/lib/python3.10/site-packages/pysmt/formula.py:81\u001b[0m, in \u001b[0;36mFormulaManager._do_type_check_real\u001b[0;34m(self, formula)\u001b[0m\n\u001b[1;32m     80\u001b[0m \u001b[38;5;28;01mdef\u001b[39;00m \u001b[38;5;21m_do_type_check_real\u001b[39m(\u001b[38;5;28mself\u001b[39m, formula):\n\u001b[0;32m---> 81\u001b[0m     \u001b[38;5;28;43mself\u001b[39;49m\u001b[38;5;241;43m.\u001b[39;49m\u001b[43mget_type\u001b[49m\u001b[43m(\u001b[49m\u001b[43mformula\u001b[49m\u001b[43m)\u001b[49m\n",
      "File \u001b[0;32m~/anaconda3/envs/logica/lib/python3.10/site-packages/pysmt/type_checker.py:43\u001b[0m, in \u001b[0;36mSimpleTypeChecker.get_type\u001b[0;34m(self, formula)\u001b[0m\n\u001b[1;32m     41\u001b[0m \u001b[38;5;28;01mdef\u001b[39;00m \u001b[38;5;21mget_type\u001b[39m(\u001b[38;5;28mself\u001b[39m, formula):\n\u001b[1;32m     42\u001b[0m     \u001b[38;5;124;03m\"\"\" Returns the pysmt.types type of the formula \"\"\"\u001b[39;00m\n\u001b[0;32m---> 43\u001b[0m     res \u001b[38;5;241m=\u001b[39m \u001b[38;5;28;43mself\u001b[39;49m\u001b[38;5;241;43m.\u001b[39;49m\u001b[43mwalk\u001b[49m\u001b[43m(\u001b[49m\u001b[43mformula\u001b[49m\u001b[43m)\u001b[49m\n\u001b[1;32m     44\u001b[0m     \u001b[38;5;28;01mif\u001b[39;00m \u001b[38;5;129;01mnot\u001b[39;00m \u001b[38;5;28mself\u001b[39m\u001b[38;5;241m.\u001b[39mbe_nice \u001b[38;5;129;01mand\u001b[39;00m res \u001b[38;5;129;01mis\u001b[39;00m \u001b[38;5;28;01mNone\u001b[39;00m:\n\u001b[1;32m     45\u001b[0m         \u001b[38;5;28;01mraise\u001b[39;00m PysmtTypeError(\u001b[38;5;124m\"\u001b[39m\u001b[38;5;124mThe formula \u001b[39m\u001b[38;5;124m'\u001b[39m\u001b[38;5;132;01m%s\u001b[39;00m\u001b[38;5;124m'\u001b[39m\u001b[38;5;124m is not well-formed\u001b[39m\u001b[38;5;124m\"\u001b[39m \\\n\u001b[1;32m     46\u001b[0m                              \u001b[38;5;241m%\u001b[39m \u001b[38;5;28mstr\u001b[39m(formula))\n",
      "File \u001b[0;32m~/anaconda3/envs/logica/lib/python3.10/site-packages/pysmt/walkers/dag.py:106\u001b[0m, in \u001b[0;36mDagWalker.walk\u001b[0;34m(self, formula, **kwargs)\u001b[0m\n\u001b[1;32m    103\u001b[0m \u001b[38;5;28;01mif\u001b[39;00m formula \u001b[38;5;129;01min\u001b[39;00m \u001b[38;5;28mself\u001b[39m\u001b[38;5;241m.\u001b[39mmemoization:\n\u001b[1;32m    104\u001b[0m     \u001b[38;5;28;01mreturn\u001b[39;00m \u001b[38;5;28mself\u001b[39m\u001b[38;5;241m.\u001b[39mmemoization[formula]\n\u001b[0;32m--> 106\u001b[0m res \u001b[38;5;241m=\u001b[39m \u001b[38;5;28;43mself\u001b[39;49m\u001b[38;5;241;43m.\u001b[39;49m\u001b[43miter_walk\u001b[49m\u001b[43m(\u001b[49m\u001b[43mformula\u001b[49m\u001b[43m,\u001b[49m\u001b[43m \u001b[49m\u001b[38;5;241;43m*\u001b[39;49m\u001b[38;5;241;43m*\u001b[39;49m\u001b[43mkwargs\u001b[49m\u001b[43m)\u001b[49m\n\u001b[1;32m    108\u001b[0m \u001b[38;5;28;01mif\u001b[39;00m \u001b[38;5;28mself\u001b[39m\u001b[38;5;241m.\u001b[39minvalidate_memoization:\n\u001b[1;32m    109\u001b[0m     \u001b[38;5;28mself\u001b[39m\u001b[38;5;241m.\u001b[39mmemoization\u001b[38;5;241m.\u001b[39mclear()\n",
      "File \u001b[0;32m~/anaconda3/envs/logica/lib/python3.10/site-packages/pysmt/walkers/dag.py:98\u001b[0m, in \u001b[0;36mDagWalker.iter_walk\u001b[0;34m(self, formula, **kwargs)\u001b[0m\n\u001b[1;32m     96\u001b[0m \u001b[38;5;124;03m\"\"\"Performs an iterative walk of the DAG\"\"\"\u001b[39;00m\n\u001b[1;32m     97\u001b[0m \u001b[38;5;28mself\u001b[39m\u001b[38;5;241m.\u001b[39mstack\u001b[38;5;241m.\u001b[39mappend((\u001b[38;5;28;01mFalse\u001b[39;00m, formula))\n\u001b[0;32m---> 98\u001b[0m \u001b[38;5;28;43mself\u001b[39;49m\u001b[38;5;241;43m.\u001b[39;49m\u001b[43m_process_stack\u001b[49m\u001b[43m(\u001b[49m\u001b[38;5;241;43m*\u001b[39;49m\u001b[38;5;241;43m*\u001b[39;49m\u001b[43mkwargs\u001b[49m\u001b[43m)\u001b[49m\n\u001b[1;32m     99\u001b[0m res_key \u001b[38;5;241m=\u001b[39m \u001b[38;5;28mself\u001b[39m\u001b[38;5;241m.\u001b[39m_get_key(formula, \u001b[38;5;241m*\u001b[39m\u001b[38;5;241m*\u001b[39mkwargs)\n\u001b[1;32m    100\u001b[0m \u001b[38;5;28;01mreturn\u001b[39;00m \u001b[38;5;28mself\u001b[39m\u001b[38;5;241m.\u001b[39mmemoization[res_key]\n",
      "File \u001b[0;32m~/anaconda3/envs/logica/lib/python3.10/site-packages/pysmt/walkers/dag.py:93\u001b[0m, in \u001b[0;36mDagWalker._process_stack\u001b[0;34m(self, **kwargs)\u001b[0m\n\u001b[1;32m     91\u001b[0m     \u001b[38;5;28mself\u001b[39m\u001b[38;5;241m.\u001b[39m_compute_node_result(formula, \u001b[38;5;241m*\u001b[39m\u001b[38;5;241m*\u001b[39mkwargs)\n\u001b[1;32m     92\u001b[0m \u001b[38;5;28;01melse\u001b[39;00m:\n\u001b[0;32m---> 93\u001b[0m     \u001b[38;5;28;43mself\u001b[39;49m\u001b[38;5;241;43m.\u001b[39;49m\u001b[43m_push_with_children_to_stack\u001b[49m\u001b[43m(\u001b[49m\u001b[43mformula\u001b[49m\u001b[43m,\u001b[49m\u001b[43m \u001b[49m\u001b[38;5;241;43m*\u001b[39;49m\u001b[38;5;241;43m*\u001b[39;49m\u001b[43mkwargs\u001b[49m\u001b[43m)\u001b[49m\n",
      "File \u001b[0;32m~/anaconda3/envs/logica/lib/python3.10/site-packages/pysmt/walkers/dag.py:54\u001b[0m, in \u001b[0;36mDagWalker._push_with_children_to_stack\u001b[0;34m(self, formula, **kwargs)\u001b[0m\n\u001b[1;32m     52\u001b[0m \u001b[38;5;124;03m\"\"\"Add children to the stack.\"\"\"\u001b[39;00m\n\u001b[1;32m     53\u001b[0m \u001b[38;5;28mself\u001b[39m\u001b[38;5;241m.\u001b[39mstack\u001b[38;5;241m.\u001b[39mappend((\u001b[38;5;28;01mTrue\u001b[39;00m, formula))\n\u001b[0;32m---> 54\u001b[0m \u001b[38;5;28;01mfor\u001b[39;00m s \u001b[38;5;129;01min\u001b[39;00m \u001b[38;5;28;43mself\u001b[39;49m\u001b[38;5;241;43m.\u001b[39;49m\u001b[43m_get_children\u001b[49m\u001b[43m(\u001b[49m\u001b[43mformula\u001b[49m\u001b[43m)\u001b[49m:\n\u001b[1;32m     55\u001b[0m     \u001b[38;5;66;03m# Add only if not memoized already\u001b[39;00m\n\u001b[1;32m     56\u001b[0m     key \u001b[38;5;241m=\u001b[39m \u001b[38;5;28mself\u001b[39m\u001b[38;5;241m.\u001b[39m_get_key(s, \u001b[38;5;241m*\u001b[39m\u001b[38;5;241m*\u001b[39mkwargs)\n\u001b[1;32m     57\u001b[0m     \u001b[38;5;28;01mif\u001b[39;00m key \u001b[38;5;129;01mnot\u001b[39;00m \u001b[38;5;129;01min\u001b[39;00m \u001b[38;5;28mself\u001b[39m\u001b[38;5;241m.\u001b[39mmemoization:\n",
      "File \u001b[0;32m~/anaconda3/envs/logica/lib/python3.10/site-packages/pysmt/walkers/dag.py:49\u001b[0m, in \u001b[0;36mDagWalker._get_children\u001b[0;34m(self, formula)\u001b[0m\n\u001b[1;32m     48\u001b[0m \u001b[38;5;28;01mdef\u001b[39;00m \u001b[38;5;21m_get_children\u001b[39m(\u001b[38;5;28mself\u001b[39m, formula):\n\u001b[0;32m---> 49\u001b[0m     \u001b[38;5;28;01mreturn\u001b[39;00m \u001b[43mformula\u001b[49m\u001b[38;5;241;43m.\u001b[39;49m\u001b[43margs\u001b[49m()\n",
      "\u001b[0;31mAttributeError\u001b[0m: 'bool' object has no attribute 'args'"
     ]
    }
   ],
   "source": [
    "\n",
    "pre = Iff(c,TRUE())\n",
    "pos = And(Iff(c,FALSE()),ForAll([j],Implies(And(j>=Int(0),j<n),Select(seq,j+1) >= Select(seq,j))))\n",
    "inv = And(i<=n,ForAll([j],Implies(And(j>=Int(0),j<i),Select(seq,j+1) >= Select(seq,j))))\n",
    "\n",
    "init = Implies(pre,inv)\n",
    "# pres = \n",
    "util = Implies(And(inv,Not(c)),pos)\n"
   ]
  },
  {
   "cell_type": "code",
   "execution_count": null,
   "id": "ada0e859",
   "metadata": {},
   "outputs": [],
   "source": [
    "def prove(f):\n",
    "    with Solver(name=\"z3\") as s:\n",
    "        s.add_assertion(Not(f))\n",
    "        if s.solve():\n",
    "            print(\"Failed to prove.\")\n",
    "        else:\n",
    "            print(\"Proved.\")\n",
    "            \n",
    "prove(init)\n",
    "#prove(pres)\n",
    "prove(util)"
   ]
  }
 ],
 "metadata": {
  "kernelspec": {
   "display_name": "Python 3 (ipykernel)",
   "language": "python",
   "name": "python3"
  },
  "language_info": {
   "codemirror_mode": {
    "name": "ipython",
    "version": 3
   },
   "file_extension": ".py",
   "mimetype": "text/x-python",
   "name": "python",
   "nbconvert_exporter": "python",
   "pygments_lexer": "ipython3",
   "version": "3.10.4"
  }
 },
 "nbformat": 4,
 "nbformat_minor": 5
}
