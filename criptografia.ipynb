{
 "cells": [
  {
   "cell_type": "markdown",
   "id": "a2d59e24",
   "metadata": {},
   "source": [
    "### Trabalho 1 - Criptografia\n",
    "###### Grupo 19\n",
    "\n",
    "Tiago Passos Rodrigues - A96414"
   ]
  },
  {
   "cell_type": "markdown",
   "id": "8c240866",
   "metadata": {},
   "source": [
    "### Enunciado\n",
    "\n",
    "2. Na criptografia pós-quântica os reticulados inteiros (“hard lattices”) e os problemas a eles associados são uma componente essencial. Um reticulado inteiro pode ser definido por uma matriz $\\;\\mathsf{L} \\in \\mathbb{Z}^{m\\times n}\\;$ (com $\\;m > n\\;$) de inteiros e por um inteiro primo $\\;q\\geq 3\\;$.\n",
    "    O chamado problema do vetor curto  (SVP) consiste  no cálculo de um vetor de inteiros\n",
    "    \n",
    "$$e \\in \\{-1,0,1\\}^m $$\n",
    "\n",
    "não nulo que  verifique a seguinte relação matricial\n",
    "    \n",
    "$$\\forall\\,i < n\\,\\centerdot\\ \\sum_{j< m}\\,e_j\\,\\times\\,\\mathsf{L}_{j,i}\\;\\equiv\\;0\\mod q$$\n",
    "\n",
    "\n",
    "a. Pretende-se resolver o SVP por programação inteira dentro das seguintes condições\n",
    "    i. Os valores  $m\\,n\\,q\\,$  são escolhidos com $\\,n > 30\\,$, $\\,|m| > 1 + |n|\\;$ e $\\,|q| > |m|\\,$. \n",
    "    ii. Os elementos $\\;\\mathsf{L}_{j,i}\\;$ são gerados aleatória e uniformemente no intervalo inteiro $\\,\\{-d \\cdots d\\}$ sendo  $\\;d\\equiv (q-1)/2\\;$.\n",
    "    \n",
    "b. Pretende-se determinar em, em primeiro lugar, se existe um vetor $\\,e\\,$ não nulo (pelo menos um dos $\\,e_j\\,$é diferente de zero). Se existir $\\,e\\,$ pretende-se calcular o vetor que minimiza o número de componentes não nulas."
   ]
  },
  {
   "cell_type": "markdown",
   "id": "c9fe5e67",
   "metadata": {},
   "source": [
    "### Análise do problema\n",
    "\n",
    "Temos uma matriz $L_{m,n}$ com tamanho $M\\times N$ de números inteiros. Queremos calcular o vetor $e$ que:\n",
    " \n",
    "$$\\forall\\,i < n\\,\\centerdot\\ \\sum_{j< m}\\,e_j\\,\\times\\,\\mathsf{L}_{j,i}\\;\\equiv\\;0\\mod q \\iff \\exists_{k}: \\forall_{i < N} \\sum_{j< M} e_{j} \\times L_{j,i} = Q \\times k $$"
   ]
  },
  {
   "cell_type": "markdown",
   "id": "aa7709f5",
   "metadata": {},
   "source": [
    "### Implementação\n",
    "\n",
    "Começamos por importar a biblioteca de uma ferramenta de programação inteira do OR-Tools que consegue lidar com a multiplicação de variáveis e criar uma instância do *model*.\n",
    "\n",
    "\n",
    "Depois inicializamos o *model* `criptografia` e definir os valores para as constantes $M$, $N$ e $Q$ com as restrições referidas em cima."
   ]
  },
  {
   "cell_type": "code",
   "execution_count": 1,
   "id": "4693ec82",
   "metadata": {},
   "outputs": [],
   "source": [
    "# Importar biblioteca\n",
    "from ortools.sat.python import cp_model\n",
    "\n",
    "# Cria o modelo CP-SAT\n",
    "model = cp_model.CpModel()"
   ]
  },
  {
   "cell_type": "markdown",
   "id": "d8eb69c9",
   "metadata": {},
   "source": [
    "### Criação das variáveis e Inputs"
   ]
  },
  {
   "cell_type": "markdown",
   "id": "d88e0644",
   "metadata": {},
   "source": [
    "#### Valores"
   ]
  },
  {
   "cell_type": "code",
   "execution_count": 4,
   "id": "0794fced",
   "metadata": {},
   "outputs": [
    {
     "name": "stdout",
     "output_type": "stream",
     "text": [
      "[[-7  7]\n",
      " [-5  3]\n",
      " [-6  3]\n",
      " [ 6 -2]\n",
      " [ 1 -6]\n",
      " [ 6 -4]\n",
      " [ 1  3]\n",
      " [-2 -5]]\n"
     ]
    }
   ],
   "source": [
    "# |m| > |n| + 1, |q| > |m|, d = q-1/2\n",
    "\n",
    "# M, N, Q, D = 12, 8, 5, 2  # -> exemplo 1\n",
    "\n",
    "M, N, Q, D = 8, 2, 17, 8  # -> exemplo 2\n",
    "\n",
    "# M, N, Q, D = 18, 7, 37, 18 # -> não funciona (muito tempo)\n",
    "\n",
    "#M, N, Q, D = 64, 31, 131, 65 # -> não funciona (muito tempo)\n",
    "\n",
    "# importar a libraria numpy para a geração da matriz\n",
    "import numpy as np\n",
    "# 1º argumento --> numeros de -D até D, \n",
    "# 2º argumento, linha = M, coluna = N\n",
    "matriz = np.random.randint(-D,D, (M, N))\n",
    "print(matriz)"
   ]
  },
  {
   "cell_type": "markdown",
   "id": "1ddefcea",
   "metadata": {},
   "source": [
    "#### Variáveis\n",
    "\n",
    "Criação da variável $e$ que queremos resolver. \n",
    "Necessitamos da criação da variável $x$ para nos auxiliar nas restrições do vetor e, isto é, ele não ser um vetor nulo e minimizar os zeros do próprio.\n",
    "Por fim, temos a variável k para verificar o $\\exists_{k}: \\forall_{i < N} \\sum_{j< M} e_{j} \\times L_{j,i} = Q \\times k $"
   ]
  },
  {
   "cell_type": "code",
   "execution_count": 5,
   "id": "5b4f3352",
   "metadata": {},
   "outputs": [],
   "source": [
    "# Cria a variável do vetor e\n",
    "e = {}\n",
    "for m in range(M):\n",
    "    e[m] = model.NewIntVar(-1, 1, 'e')\n",
    "\n",
    "# Variável auxiliar\n",
    "x = {}\n",
    "for m in range(M):\n",
    "    x[m] = model.NewIntVar(0, 1, 'x') # assume os valores absolutos do e\n",
    "    \n",
    "k = {} # existe um k\n",
    "for i in range(N):\n",
    "    k[i] = model.NewIntVar(-100, 100, 'k')"
   ]
  },
  {
   "cell_type": "markdown",
   "id": "3a6c0c36",
   "metadata": {},
   "source": [
    "### Restrições"
   ]
  },
  {
   "cell_type": "code",
   "execution_count": 6,
   "id": "c1938eec",
   "metadata": {},
   "outputs": [],
   "source": [
    "for m in range(M):\n",
    "    model.AddAbsEquality(x[m],e[m]) # restrição absoluta\n",
    "    \n",
    "model.Add(sum(x[i] for i in range(M)) != 0) # vetor não pode ser nulo\n",
    "\n",
    "model.Minimize(sum(x[i] for i in range(M))) # minizar os zeros\n",
    "\n",
    "for i in range(N):\n",
    "    model.Add(sum(e[j] * matriz[j][i] for j in range(M)) == Q*k[i]) #percorre a coluna"
   ]
  },
  {
   "cell_type": "markdown",
   "id": "32dd0aa4",
   "metadata": {},
   "source": [
    "### Criação do Solver e interpretação dos resultados"
   ]
  },
  {
   "cell_type": "code",
   "execution_count": 7,
   "id": "91a7ce7d",
   "metadata": {},
   "outputs": [
    {
     "name": "stdout",
     "output_type": "stream",
     "text": [
      "Valor do vetor e:\n",
      "-1 -1 0 0 0 1 -1 0 \n",
      "Valor do vetor k:\n",
      "1 -1 "
     ]
    }
   ],
   "source": [
    "# Cria um solver CP-SAT a solver and solves the model.\n",
    "solver = cp_model.CpSolver()\n",
    "\n",
    "# Invoca o solver com o modelo criado\n",
    "status = solver.Solve(model)\n",
    "\n",
    "# Interpreta os resultados\n",
    "if status == cp_model.OPTIMAL or status == cp_model.FEASIBLE:\n",
    "    #print('x = %i' % solver.Value(x))\n",
    "    print(\"Valor do vetor e:\")\n",
    "    for m in range(M):\n",
    "        print(solver.Value(e[m]), end=' ')\n",
    "    print(\"\\nValor do vetor k:\")    \n",
    "    for n in range(N):\n",
    "        print(solver.Value(k[n]), end=' ')\n",
    "else:\n",
    "    print('No solution found.')\n"
   ]
  }
 ],
 "metadata": {
  "kernelspec": {
   "display_name": "Python 3 (ipykernel)",
   "language": "python",
   "name": "python3"
  },
  "language_info": {
   "codemirror_mode": {
    "name": "ipython",
    "version": 3
   },
   "file_extension": ".py",
   "mimetype": "text/x-python",
   "name": "python",
   "nbconvert_exporter": "python",
   "pygments_lexer": "ipython3",
   "version": "3.10.4"
  },
  "widgets": {
   "application/vnd.jupyter.widget-state+json": {
    "state": {},
    "version_major": 2,
    "version_minor": 0
   }
  }
 },
 "nbformat": 4,
 "nbformat_minor": 5
}
