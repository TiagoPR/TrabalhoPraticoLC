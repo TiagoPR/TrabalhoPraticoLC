{
 "cells": [
  {
   "cell_type": "markdown",
   "id": "05d6bfb1",
   "metadata": {},
   "source": [
    "### Trabalho 1 - Horário\n",
    "###### Grupo 19\n",
    "\n",
    "Tiago Passos Rodrigues - A96414\n"
   ]
  },
  {
   "cell_type": "markdown",
   "id": "3d5a84b7",
   "metadata": {},
   "source": [
    "### Enunciado\n",
    "\n",
    "1. Pretende-se construir um horário semanal para o plano de reuniões de projeto de uma “StartUp” de acordo com as seguintes condições:\n",
    "    \n",
    "    1. Cada reunião ocupa uma sala (enumeradas $1...S\\,$) durante um “slot”  $1..T\\,$ $(\\text{hora},\\text{dia})$.  \n",
    "    2.  Cada reunião tem associado um projeto (enumerados $1..P$) e um conjunto de participantes. Os diferentes colaboradores são enumerados $1..C$.\n",
    "    3. Cada projeto tem associado um conjunto de colaboradores, dos quais um  é o líder. Cada projeto realiza um dado número de reuniões semanais. \n",
    "    4. O líder do projeto participa em todas as reuniões do seu projeto; os restantes colaboradores podem ou não participar consoante a sua disponibilidade, num mínimo (“quorum”) de  $50\\%$ do total de colaboradores do projeto. \n",
    "    \n",
    "    São “inputs” do problema:\n",
    "        1. Os parâmetros $S\\,,\\,T\\,,\\,P\\,,\\,C$\n",
    "        2. O conjunto de colaboradores de cada projeto, o seu líder e o número mínimo  de reuniões semanais.\n",
    "        3. A disponibilidade de cada participante, incluindo o lider. Essa disponibilidade   é um conjunto de “slots”  representada numa matriz booleana de acessibilidade com uma linha por cada participante $1..C$ e uma coluna por “slot” $\\,1..T\\,$\n",
    "        \n",
    "    São critérios de optimização:\n",
    "        1. Maximizar o número de reuniões efetivamente realizadas\n",
    "        2. Minimizar o número médio de reuniões por participante."
   ]
  },
  {
   "cell_type": "markdown",
   "id": "51dd0137",
   "metadata": {},
   "source": [
    "### Análise do problema\n",
    "\n",
    "Vamos usar uma família $x_{c,t}$, $y_{p,s,t}$ de variáveis binárias (i.e., que assumem valores inteiros $\\{0,1\\}$), com a seguinte semântica\n",
    "\n",
    "$$x_{c,t} == 1  \\quad \\mbox{se e só se} \\quad \\mbox{o colaborador $c$ tiver o slot $t$ ocupado.}$$\n",
    "\n",
    "$$y_{p,s,t} == 1  \\quad \\mbox{se e só se} \\quad \\mbox{houver uma reunião marcada do projeto $p$ na sala $s$ no slot $t$}$$\n",
    "\n",
    "Estas $C\\times T$ variáveis são convenientemente representadas numa matriz $X$ instanciável com valores $\\{0,1\\}^{C\\times T}$, a que se costuma chamar *matriz de alocação*."
   ]
  },
  {
   "cell_type": "markdown",
   "id": "76f64dd8",
   "metadata": {},
   "source": [
    "### Implementação\n",
    "\n",
    "Começamos por importar a biblioteca de programação linear do OR-Tools e criar uma instância do *solver*.\n",
    "\n",
    "\n",
    "Depois inicializamos o *solver* `horario` e definir os valores para as constantes $S$, $T$, $P$ e $C$ e os valores da variável $projetos$."
   ]
  },
  {
   "cell_type": "code",
   "execution_count": 1,
   "id": "c065447f",
   "metadata": {},
   "outputs": [],
   "source": [
    "from ortools.linear_solver import pywraplp\n",
    "\n",
    "horario = pywraplp.Solver.CreateSolver('SCIP')\n",
    "\n",
    "S, T, P, C = 2, 7, 3, 8\n",
    "\n",
    "# Número de Projeto: (líder, nr mínimo de reuniões semanais, lista de colaboradores)\n",
    "\n",
    "projetos = {\n",
    "    0: (1, 10, [0,1,3,5]),\n",
    "    1: (2, 12, [1,2,4,7]),\n",
    "    2: (3, 10, [0,2,5,6,7])\n",
    "}"
   ]
  },
  {
   "cell_type": "markdown",
   "id": "b3c34414",
   "metadata": {},
   "source": [
    "### Declaração da matriz de alocação $X$"
   ]
  },
  {
   "cell_type": "code",
   "execution_count": 2,
   "id": "cc5773fc",
   "metadata": {},
   "outputs": [
    {
     "name": "stdout",
     "output_type": "stream",
     "text": [
      "{0: {0: X[0,0], 1: X[0,1], 2: X[0,2], 3: X[0,3], 4: X[0,4], 5: X[0,5], 6: X[0,6]}, 1: {0: X[1,0], 1: X[1,1], 2: X[1,2], 3: X[1,3], 4: X[1,4], 5: X[1,5], 6: X[1,6]}, 2: {0: X[2,0], 1: X[2,1], 2: X[2,2], 3: X[2,3], 4: X[2,4], 5: X[2,5], 6: X[2,6]}, 3: {0: X[3,0], 1: X[3,1], 2: X[3,2], 3: X[3,3], 4: X[3,4], 5: X[3,5], 6: X[3,6]}, 4: {0: X[4,0], 1: X[4,1], 2: X[4,2], 3: X[4,3], 4: X[4,4], 5: X[4,5], 6: X[4,6]}, 5: {0: X[5,0], 1: X[5,1], 2: X[5,2], 3: X[5,3], 4: X[5,4], 5: X[5,5], 6: X[5,6]}, 6: {0: X[6,0], 1: X[6,1], 2: X[6,2], 3: X[6,3], 4: X[6,4], 5: X[6,5], 6: X[6,6]}, 7: {0: X[7,0], 1: X[7,1], 2: X[7,2], 3: X[7,3], 4: X[7,4], 5: X[7,5], 6: X[7,6]}}\n",
      "pausa\n",
      "{0: {0: {0: Y[0,0,0], 1: Y[0,0,1], 2: Y[0,0,2], 3: Y[0,0,3], 4: Y[0,0,4], 5: Y[0,0,5], 6: Y[0,0,6]}, 1: {0: Y[1,0,0], 1: Y[1,0,1], 2: Y[1,0,2], 3: Y[1,0,3], 4: Y[1,0,4], 5: Y[1,0,5], 6: Y[1,0,6]}}, 1: {0: {0: Y[0,1,0], 1: Y[0,1,1], 2: Y[0,1,2], 3: Y[0,1,3], 4: Y[0,1,4], 5: Y[0,1,5], 6: Y[0,1,6]}, 1: {0: Y[1,1,0], 1: Y[1,1,1], 2: Y[1,1,2], 3: Y[1,1,3], 4: Y[1,1,4], 5: Y[1,1,5], 6: Y[1,1,6]}}, 2: {0: {0: Y[0,2,0], 1: Y[0,2,1], 2: Y[0,2,2], 3: Y[0,2,3], 4: Y[0,2,4], 5: Y[0,2,5], 6: Y[0,2,6]}, 1: {0: Y[1,2,0], 1: Y[1,2,1], 2: Y[1,2,2], 3: Y[1,2,3], 4: Y[1,2,4], 5: Y[1,2,5], 6: Y[1,2,6]}}}\n",
      "X[0,0]\n"
     ]
    }
   ],
   "source": [
    "x = {}\n",
    "\n",
    "# disponibilidade do colaborador.\n",
    "\n",
    "for c in range(C):\n",
    "    x[c] = {}\n",
    "    for t in range(T):\n",
    "        x[c][t] = horario.BoolVar(f'X[{c},{t}]')\n",
    "        \n",
    "y = {}\n",
    "# reunioes marcadas\n",
    "for p in range(P):\n",
    "    y[p] = {}\n",
    "    for s in range(S):\n",
    "        y[p][s] = {}\n",
    "        for t in range(T):\n",
    "            y[p][s][t] = horario.BoolVar(f'Y[{s},{p},{t}]')\n",
    "\n",
    "            \n",
    "z = {}\n",
    "# alocacao de um colaborador\n",
    "\n",
    "def X(c,t):              # abreviatura\n",
    "    return x[c][t]        \n",
    "\n",
    "def Y(p,s,t):             \n",
    "    return y[p][s][t] \n",
    "\n",
    "print(x)\n",
    "print(\"pausa\")\n",
    "print(y)\n",
    "print(X(0,0)) # a usar a funcao"
   ]
  },
  {
   "cell_type": "markdown",
   "id": "7b4cd2a2",
   "metadata": {},
   "source": [
    "### Modelação das restrições\n",
    "\n",
    "1. O líder do projeto participa em todas as reuniões do seu projeto\n",
    "\n",
    "pode expressar-se da seguinte forma:\n",
    "\n",
    "$$\\forall_{p< P} \\cdot \\forall_{c< C} \\cdot \\quad c = projetos[p][0] \\implies \\sum_{s< S} y_{p,s,t} = x_{c,t} $$"
   ]
  },
  {
   "cell_type": "code",
   "execution_count": 3,
   "id": "0f0db00a",
   "metadata": {},
   "outputs": [],
   "source": [
    "for p in range(P):\n",
    "    for c in range(C):\n",
    "        if projetos[p][0] == c:\n",
    "            for t in range(T):\n",
    "                horario.Add(sum([Y(p,s,t) for s in range(S)]) == X(c,t)) # mas o lider pode ter uma reuniao em uma sala diferente?"
   ]
  },
  {
   "cell_type": "markdown",
   "id": "11822504",
   "metadata": {},
   "source": [
    "2. Mínimo de 50% dos colaboradores têm de participar na reunião do projeto\n",
    "\n",
    "pode expressar-se da seguinte forma:\n",
    "\n",
    "$$\\forall_{p< P} \\cdot \\forall_{s< S} \\cdot \\forall_{t < T} \\quad \\sum_{c< C} x_{c,t} >= Min * x_{lider,t} $$\n",
    "\n",
    "$Min =$ 50% do total de colaboradores no projeto "
   ]
  },
  {
   "cell_type": "code",
   "execution_count": 4,
   "id": "9c5350d4",
   "metadata": {},
   "outputs": [],
   "source": [
    "for p in range(P):\n",
    "    for s in range(S):\n",
    "        for t in range(T):\n",
    "            lider = projetos[p][0]\n",
    "            colaboradores = projetos[p][2]\n",
    "            min = 0.5 * len(colaboradores)\n",
    "            horario.Add(sum([X(c,t) for c in colaboradores]) >= min * X(lider,t))"
   ]
  },
  {
   "cell_type": "markdown",
   "id": "62aebcd4",
   "metadata": {},
   "source": [
    "3. Ocorre o número mínimo de reuniões por projeto (Rs)\n",
    "\n",
    "pode expressar-se da seguinte forma:\n",
    "\n",
    "$$\\forall_{p< P} \\cdot \\quad \\sum_{s< S,t< T} y_{p,s,t} \\geq Rs_{p} $$"
   ]
  },
  {
   "cell_type": "code",
   "execution_count": 5,
   "id": "52d2a618",
   "metadata": {},
   "outputs": [],
   "source": [
    "for p in range(P):\n",
    "    rs = projetos[p][1]\n",
    "    horario.Add(sum([Y(p,s,t) for s in range(S) for t in range(S)]) >= rs)"
   ]
  },
  {
   "cell_type": "markdown",
   "id": "6b485388",
   "metadata": {},
   "source": [
    "4. Uma sala só é utilizada para uma reunião em cada slot\n",
    "\n",
    "pode expressar-se da seguinte forma:\n",
    "\n",
    "$$\\forall_{t< T} \\cdot \\forall_{s< S} \\cdot \\quad \\sum_{p< P} y_{p,s,t} \\leq 1 $$"
   ]
  },
  {
   "cell_type": "code",
   "execution_count": 6,
   "id": "55cfa11b",
   "metadata": {},
   "outputs": [],
   "source": [
    "for t in range(T):\n",
    "    for s in range(S):\n",
    "        horario.Add(sum([Y(p,s,t) for p in range(P)]) <= 1)"
   ]
  },
  {
   "cell_type": "markdown",
   "id": "c81dc051",
   "metadata": {},
   "source": [
    "5. Colaborador só pode particar em uma reunião de cada vez\n",
    "\n",
    "pode expressar-se da seguinte forma:\n",
    "\n",
    "$$\\forall_{c< C} \\cdot \\forall_{t< T} \\quad \\quad \\sum_{p< P,s< S} y_{p,s,t} == 1 $$"
   ]
  },
  {
   "cell_type": "code",
   "execution_count": null,
   "id": "4d1b806f",
   "metadata": {},
   "outputs": [],
   "source": [
    "for c in range(C):\n",
    "    for t in range(T):\n",
    "        horario.Add(sum([Y(p,s,t) for p in range(P) for s in range(S)]) == 1)"
   ]
  },
  {
   "cell_type": "markdown",
   "id": "e6ebd230",
   "metadata": {},
   "source": [
    "### Procura da solução do problema"
   ]
  },
  {
   "cell_type": "code",
   "execution_count": 7,
   "id": "ca7ef866",
   "metadata": {},
   "outputs": [
    {
     "name": "stdout",
     "output_type": "stream",
     "text": [
      "Não foi encontrada a solução\n"
     ]
    }
   ],
   "source": [
    "r = horario.Solve()\n",
    "\n",
    "if r == pywraplp.Solver.OPTIMAL:\n",
    "    print(\"Solucao encontrada\")\n",
    "    print(\"X:\")\n",
    "    for c in range(C):\n",
    "        for t in range(T):\n",
    "            print(int(x[c][t].solution_value()), end=' ')\n",
    "    \n",
    "        print()\n",
    "\n",
    "    print(\"Y:\")\n",
    "    for p in range(P):\n",
    "        for s in range(S):\n",
    "            for t in range(T):\n",
    "                print(int(y[p][s][t].solution_value()), end=' ')\n",
    "            print()\n",
    "        print()\n",
    "else:\n",
    "    print(\"Não foi encontrada a solução\")"
   ]
  },
  {
   "cell_type": "code",
   "execution_count": null,
   "id": "bc671c93",
   "metadata": {},
   "outputs": [],
   "source": []
  }
 ],
 "metadata": {
  "kernelspec": {
   "display_name": "Python 3 (ipykernel)",
   "language": "python",
   "name": "python3"
  },
  "language_info": {
   "codemirror_mode": {
    "name": "ipython",
    "version": 3
   },
   "file_extension": ".py",
   "mimetype": "text/x-python",
   "name": "python",
   "nbconvert_exporter": "python",
   "pygments_lexer": "ipython3",
   "version": "3.10.4"
  }
 },
 "nbformat": 4,
 "nbformat_minor": 5
}
